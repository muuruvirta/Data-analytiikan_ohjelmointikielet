{
 "cells": [
  {
   "cell_type": "code",
   "execution_count": 1,
   "id": "a50b2c48-b9af-4e6a-88ec-4ac6fd864926",
   "metadata": {},
   "outputs": [
    {
     "name": "stdout",
     "output_type": "stream",
     "text": [
      "Dict{String, Any}\n",
      "[\"label\", \"role\", \"id\", \"value\", \"version\", \"updated\", \"note\", \"class\", \"dimension\", \"size\", \"extension\", \"source\"]\n"
     ]
    }
   ],
   "source": [
    "#Data-analytiikan ohjelmointikielet\n",
    "#3. Datan muokkaus ja siivoamine\n",
    "#Julia-esimerkit\n",
    "\n",
    "\n",
    "#Ladataan tilastokeskuksen data. Haetaan data JSON-muodossa suoraan Tilastokeskuksen PXWeb-palvelun tarjoaman\n",
    "#rajapinnan kautta. Asenna HTTP ja JSON -paketit ennen koodin suorittamista.\n",
    "\n",
    "#PxWebin käyttöliittymän osoite: https://pxdata.stat.fi/PxWeb/pxweb/fi/StatFin/StatFin__aku/statfin_aku_pxt_12dz.px/\n",
    "\n",
    "\n",
    "\n",
    "\n",
    "using HTTP, JSON, DataFrames\n",
    "\n",
    "url = \"https://pxdata.stat.fi/PxWeb/api/v1/fi/StatFin/aku/statfin_aku_pxt_12dz.px\" #Saat urlin web-käyttöliittymästä. \n",
    "\n",
    "body = \"\"\"\n",
    "{\n",
    "  \"query\": [\n",
    "    {\n",
    "      \"code\": \"Ikä\",\n",
    "      \"selection\": {\n",
    "        \"filter\": \"item\",\n",
    "        \"values\": [\n",
    "          \"18-24\",\n",
    "          \"25-34\",\n",
    "          \"35-44\",\n",
    "          \"45-54\",\n",
    "          \"55-64\"\n",
    "        ]\n",
    "      }\n",
    "    }\n",
    "  ],\n",
    "  \"response\": {\n",
    "    \"format\": \"json-stat2\"\n",
    "  }\n",
    "}\n",
    "\n",
    "\"\"\"\n",
    "\n",
    "response = HTTP.post(url,\n",
    "    [\"Content-Type\" => \"application/json\"],  # headerit\n",
    "    body\n",
    ")\n",
    "\n",
    "data = JSON.parse(String(response.body))\n",
    "\n",
    "println(typeof(data))               # Tuloksesta huomataan, että data on sanakirja-tyyppinen\n",
    "println(keys(data))                 # Tarkistetaan avaimet\n",
    "\n"
   ]
  },
  {
   "cell_type": "code",
   "execution_count": 2,
   "id": "f0441d55-00ee-47af-a9b5-6cbc6ba8f323",
   "metadata": {},
   "outputs": [
    {
     "name": "stdout",
     "output_type": "stream",
     "text": [
      "Dict{String, Any}(\"label\" => \"Aikuiskoulutukseen osallistuminen (ml. työhön tai ammattiin liittyvä, henkilöstökoulutus sekä muu kuin työhön liittyvä aikuiskoulutus) ikäluokittain muuttujina Vuosi, Ikä ja Tiedot\", \"role\" => Dict{String, Any}(\"time\" => Any[\"Vuosi\"], \"metric\" => Any[\"Tiedot\"]), \"id\" => Any[\"Vuosi\", \"Ikä\", \"Tiedot\"], \"value\" => Any[204552, 43, 97831, 36, 82445, 34, 49301, 17, 416027, 55, 329104, 50, 285334, 50, 127314, 18, 481846, 57, 373050, 48, 338924, 52, 172371, 21, 291068, 48, 234914, 44, 209508, 48, 111111, 18, 132963, 25, 57283, 27, 52524, 37, 85202, 16, 183534, 42, 50555, 27, 37360, 33, 36170, 18, 381866, 53, 260675, 44, 204640, 50, 126507, 19, 425144, 54, 325990, 45, 264282, 53, 147087, 19, 404908, 54, 317436, 47, 261089, 57, 131040, 17, 160102, 31, 77434, 33, 63460, 51, 77844, 15, 225413, 49, 77432, 41, 62174, 46, 39338, 19, 409527, 62, 298999, 56, 241792, 57, 121145, 20, 474888, 62, 388827, 56, 322034, 61, 122872, 17, 463366, 56, 379929, 52, 307692, 57, 139374, 17, 180863, 33, 85988, 34, 70823, 47, 89128, 16, 198693, 43, 69120, 36, 68919, 46, 44530, 21, 373428, 58, 274747, 54, 242893, 57, 107223, 19, 441924, 61, 374510, 57, 317475, 61, 121623, 17, 430683, 56, 375150, 54, 323426, 60, 132888, 17, 262001, 37, 173208, 40, 154957, 52, 114114, 16, 197995, 42, 86655, 48, 74049, 52, 38365, 20, 394207, 58, 287470, 57, 244715, 61, 127861, 22, 415339, 63, 354718, 61, 310112, 66, 117970, 19, 432854, 58, 374717, 55, 320955, 59, 126913, 17, 275125, 36, 213344, 42, 187453, 51, 108158, 14, 177849, 38, 68176, 40, 47385, 48, 21819, 12, 395268, 57, 287581, 55, 243614, 59, 75927, 13, 372384, 56, 314841, 53, 251803, 55, 100754, 16, 377242, 52, 318425, 49, 278187, 56, 95400, 14, 261327, 35, 202465, 36, 183148, 44, 91661, 12, 178091, 44, 36380, 30, 34476, 40, 23050, 16, 291667, 48, 221542, 48, 211472, 55, 72531, 15, 362093, 53, 303634, 50, 287854, 57, 103609, 16, 341665, 54, 296806, 52, 282554, 60, 97701, 16, 279325, 38, 223090, 38, 203326, 45, 81638, 11], \"version\" => \"2.0\", \"updated\" => \"2023-10-06T05:00:00Z\", \"note\" => Any[\"<A HREF='https://stat.fi/tilasto/dokumentaatio/aku' TARGET=_blank>Tilaston dokumentaatio</A>\"], \"class\" => \"dataset\", \"dimension\" => Dict{String, Any}(\"Tiedot\" => Dict{String, Any}(\"label\" => \"Tiedot\", \"category\" => Dict{String, Any}(\"label\" => Dict{String, Any}(\"muuo_pros\" => \"Muuhun kuin työhön tai ammattiin liittyvään aikuiskoulutukseen osallistuneet, %\", \"muuo_lkm\" => \"Muuhun kuin työhön tai ammattiin liittyvään aikuiskoulutukseen osallistuneet, lkm\", \"akuo_lkm\" => \"Aikuiskoulutukseen osallistuneet, lkm\", \"tyoo_lkm\" => \"Työhön tai ammattiin liittyvään aikuiskoulutukseen osallistuneet, lkm\", \"tyoo_pros\" => \"Työhön tai ammattiin liittyvään aikuiskoulutukseen osallistuneet, %\", \"tyan_pros\" => \"Työnantajan tukemaan koulutukseen (henkilöstökoulutukseen) osallistuneet, %\", \"akuo_pros\" => \"Aikuiskoulutukseen osallistuneet, %\", \"tyan_lkm\" => \"Työnantajan tukemaan koulutukseen (henkilöstökoulutukseen) osallistuneet, lkm\"), \"note\" => Dict{String, Any}(\"muuo_pros\" => Any[\"Muuhun kuin työhön tai ammattiin liittyvään aikuiskoulutukseen osallistuneet 18-64-vuotiaat, pl. opiskelijat ja varusmiehet.\\r\\nMuuhun kuin työhön tai ammattiin liittyvään aikuiskoulutukseen on laskettu toisiin opintoihin, luottamustehtäviin, harrastuksiin tms. vapaa-ajan toimintoihin liittyvät opinnot sekä muut yleissivistävät opinnot. Määrittely perustui vastaajan omaan ilmoitukseen. Vuoteen 2017 asti mukaan on laskettu vain sellainen koulutus, johon on osallistuttu yhteensä vähintään kuusi tuntia.\"], \"muuo_lkm\" => Any[\"Muuhun kuin työhön tai ammattiin liittyvään aikuiskoulutukseen osallistuneet 18-64-vuotiaat, pl. opiskelijat ja varusmiehet.\\r\\nMuuhun kuin työhön tai ammattiin liittyvään aikuiskoulutukseen on laskettu toisiin opintoihin, luottamustehtäviin, harrastuksiin tms. vapaa-ajan toimintoihin liittyvät opinnot sekä muut yleissivistävät opinnot. Määrittely perustui vastaajan omaan ilmoitukseen. Vuoteen 2017 asti mukaan on laskettu vain sellainen koulutus, johon on osallistuttu yhteensä vähintään kuusi tuntia.\"], \"akuo_lkm\" => Any[\"Aikuiskoulutukseen osallistuneet 18-64-vuotias väestö.\\r\\nAikuiskoulutuksella tarkoitetaan erityisesti aikuisia varten järjestettyä ja organisoitua koulutusta. Sisältää opiskelun ulkomailla pl. vuosi 1990. Vuoteen 2017 asti mukaan on laskettu vain sellainen koulutus, johon on osallistuttu yhteensä vähintään kuusi tuntia.\"], \"tyoo_lkm\" => Any[\"Työhön tai ammattiin liittyvään aikuiskoulutukseen osallistuneet 18-64-vuotias työvoima.\\r\\nTähän luetaan sellainen aikuiskoulutusorganisaatioissa järjestetty koulutus, jonka vastaaja itse koki liittyvän työhön tai ammattiin Vuoteen 2017 asti mukaan on laskettu vain sellainen koulutus, johon on osallistuttu yhteensä vähintään kuusi tuntia.\"], \"tyoo_pros\" => Any[\"Työhön tai ammattiin liittyvään aikuiskoulutukseen osallistuneet 18-64-vuotias työvoima.\\r\\nTähän luetaan sellainen aikuiskoulutusorganisaatioissa järjestetty koulutus, jonka vastaaja itse koki liittyvän työhön tai ammattiin Vuoteen 2017 asti mukaan on laskettu vain sellainen koulutus, johon on osallistuttu yhteensä vähintään kuusi tuntia.\"], \"tyan_pros\" => Any[\"Työnantajan tukemaan koulutukseen (henkilöstökoulutukseen) osallistuneet 18-64-vuotiaat palkansaajat.\\r\\nHenkilöstökoulutukseksi määriteltiin työnantajan joko osittain tai kokonaan tukema työhön tai ammattiin liittyvä aikuiskoulutus. Tuki on voinut koskea joko koulutuksen kustannuksia tai siihen käytettävää aikaa. Vuoteen 2017 asti mukaan on laskettu vain sellainen koulutus, johon on osallistuttu yhteensä vähintään kuusi tuntia.\"], \"akuo_pros\" => Any[\"Aikuiskoulutukseen osallistuneet 18-64-vuotias väestö.\\r\\nAikuiskoulutuksella tarkoitetaan erityisesti aikuisia varten järjestettyä ja organisoitua koulutusta. Sisältää opiskelun ulkomailla pl. vuosi 1990. Vuoteen 2017 asti mukaan on laskettu vain sellainen koulutus, johon on osallistuttu yhteensä vähintään kuusi tuntia.\"], \"tyan_lkm\" => Any[\"Työnantajan tukemaan koulutukseen (henkilöstökoulutukseen) osallistuneet 18-64-vuotiaat palkansaajat.\\r\\nHenkilöstökoulutukseksi määriteltiin työnantajan joko osittain tai kokonaan tukema työhön tai ammattiin liittyvä aikuiskoulutus. Tuki on voinut koskea joko koulutuksen kustannuksia tai siihen käytettävää aikaa. Vuoteen 2017 asti mukaan on laskettu vain sellainen koulutus, johon on osallistuttu yhteensä vähintään kuusi tuntia.\"]), \"unit\" => Dict{String, Any}(\"muuo_pros\" => Dict{String, Any}(\"base\" => \"%\", \"decimals\" => 0), \"muuo_lkm\" => Dict{String, Any}(\"base\" => \"Lukumäärä\", \"decimals\" => 0), \"akuo_lkm\" => Dict{String, Any}(\"base\" => \"Lukumäärä\", \"decimals\" => 0), \"tyoo_lkm\" => Dict{String, Any}(\"base\" => \"Lukumäärä\", \"decimals\" => 0), \"tyoo_pros\" => Dict{String, Any}(\"base\" => \"%\", \"decimals\" => 0), \"tyan_pros\" => Dict{String, Any}(\"base\" => \"%\", \"decimals\" => 0), \"akuo_pros\" => Dict{String, Any}(\"base\" => \"%\", \"decimals\" => 0), \"tyan_lkm\" => Dict{String, Any}(\"base\" => \"Lukumäärä\", \"decimals\" => 0)), \"index\" => Dict{String, Any}(\"muuo_pros\" => 7, \"muuo_lkm\" => 6, \"akuo_lkm\" => 0, \"tyoo_lkm\" => 2, \"tyoo_pros\" => 3, \"tyan_pros\" => 5, \"akuo_pros\" => 1, \"tyan_lkm\" => 4)), \"extension\" => Dict{String, Any}(\"show\" => \"value\", \"elimination\" => false)), \"Ikä\" => Dict{String, Any}(\"label\" => \"Ikä\", \"link\" => Dict{String, Any}(\"describedby\" => Any[Dict{String, Any}(\"extension\" => Dict{String, Any}(\"Ikä\" => \"SCALE-TYPE=ordinal\"))]), \"category\" => Dict{String, Any}(\"label\" => Dict{String, Any}(\"45-54\" => \"45 - 54\", \"25-34\" => \"25 - 34\", \"55-64\" => \"55 - 64\", \"35-44\" => \"35 - 44\", \"18-24\" => \"18 - 24\"), \"index\" => Dict{String, Any}(\"45-54\" => 3, \"25-34\" => 1, \"55-64\" => 4, \"35-44\" => 2, \"18-24\" => 0)), \"extension\" => Dict{String, Any}(\"show\" => \"value\", \"elimination\" => false)), \"Vuosi\" => Dict{String, Any}(\"label\" => \"Vuosi\", \"category\" => Dict{String, Any}(\"label\" => Dict{String, Any}(\"2022\" => \"2022\", \"1990\" => \"1990\", \"2000\" => \"2000\", \"2012\" => \"2012\", \"1995\" => \"1995\", \"2006\" => \"2006\", \"2017\" => \"2017\"), \"index\" => Dict{String, Any}(\"2022\" => 6, \"1990\" => 0, \"2000\" => 2, \"2012\" => 4, \"1995\" => 1, \"2006\" => 3, \"2017\" => 5)), \"extension\" => Dict{String, Any}(\"show\" => \"value\", \"elimination\" => false))), \"size\" => Any[7, 5, 8], \"extension\" => Dict{String, Any}(\"px\" => Dict{String, Any}(\"language\" => \"fi\", \"contents\" => \"Aikuiskoulutukseen osallistuminen (ml. työhön tai ammattiin liittyvä, henkilöstökoulutus sekä muu kuin työhön liittyvä aikuiskoulutus) ikäluokittain\", \"description\" => \"12dz -- Aikuiskoulutukseen osallistuminen (ml. työhön tai ammattiin liittyvä, henkilöstökoulutus sekä muu kuin työhön liittyvä aikuiskoulutus) ikäluokittain, 1990-2022\", \"aggregallowed\" => true, \"tableid\" => \"statfin_aku_pxt_12dz\", \"descriptiondefault\" => false, \"stub\" => Any[\"Vuosi\", \"Ikä\"], \"subject-code\" => \"AKU\", \"subject-area\" => \"aku\", \"matrix\" => \"001_12dz_2022\", \"heading\" => Any[\"Tiedot\"], \"decimals\" => 0, \"official-statistics\" => true), \"contact\" => Any[Dict{String, Any}(\"raw\" => \"<A HREF='https://stat.fi/tilasto/aku' TARGET=_blank>Tilaston kotisivu</A>\")]), \"source\" => \"Tilastokeskus, aikuiskoulutukseen osallistuminen\")\n"
     ]
    }
   ],
   "source": [
    "println(data) #Tutkitaan nopealla silmäyksellä ladatun datan rakenne."
   ]
  },
  {
   "cell_type": "code",
   "execution_count": 3,
   "id": "f3d0baf7-f9f3-4196-855e-bd8c9efc6545",
   "metadata": {},
   "outputs": [
    {
     "data": {
      "text/html": [
       "<div><div style = \"float: left;\"><span>280×4 DataFrame</span></div><div style = \"float: right; font-style: italic;\"><span>255 rows omitted</span></div><div style = \"clear: both;\"></div></div><div class = \"data-frame\" style = \"overflow-x: scroll;\"><table class = \"data-frame\" style = \"margin-bottom: 6px;\"><thead><tr class = \"columnLabelRow\"><th class = \"stubheadLabel\" style = \"font-weight: bold; text-align: right;\">Row</th><th style = \"text-align: left;\">Vuosi</th><th style = \"text-align: left;\">Ikä</th><th style = \"text-align: left;\">Tiedot</th><th style = \"text-align: left;\">Arvo</th></tr><tr class = \"columnLabelRow\"><th class = \"stubheadLabel\" style = \"font-weight: bold; text-align: right;\"></th><th title = \"String\" style = \"text-align: left;\">String</th><th title = \"String\" style = \"text-align: left;\">String</th><th title = \"String\" style = \"text-align: left;\">String</th><th title = \"Any\" style = \"text-align: left;\">Any</th></tr></thead><tbody><tr class = \"dataRow\"><td class = \"rowLabel\" style = \"font-weight: bold; text-align: right;\">1</td><td style = \"text-align: left;\">1990</td><td style = \"text-align: left;\">18-24</td><td style = \"text-align: left;\">akuo_lkm</td><td style = \"text-align: left;\">204552</td></tr><tr class = \"dataRow\"><td class = \"rowLabel\" style = \"font-weight: bold; text-align: right;\">2</td><td style = \"text-align: left;\">1990</td><td style = \"text-align: left;\">18-24</td><td style = \"text-align: left;\">akuo_pros</td><td style = \"text-align: left;\">43</td></tr><tr class = \"dataRow\"><td class = \"rowLabel\" style = \"font-weight: bold; text-align: right;\">3</td><td style = \"text-align: left;\">1990</td><td style = \"text-align: left;\">18-24</td><td style = \"text-align: left;\">tyoo_lkm</td><td style = \"text-align: left;\">97831</td></tr><tr class = \"dataRow\"><td class = \"rowLabel\" style = \"font-weight: bold; text-align: right;\">4</td><td style = \"text-align: left;\">1990</td><td style = \"text-align: left;\">18-24</td><td style = \"text-align: left;\">tyoo_pros</td><td style = \"text-align: left;\">36</td></tr><tr class = \"dataRow\"><td class = \"rowLabel\" style = \"font-weight: bold; text-align: right;\">5</td><td style = \"text-align: left;\">1990</td><td style = \"text-align: left;\">18-24</td><td style = \"text-align: left;\">tyan_lkm</td><td style = \"text-align: left;\">82445</td></tr><tr class = \"dataRow\"><td class = \"rowLabel\" style = \"font-weight: bold; text-align: right;\">6</td><td style = \"text-align: left;\">1990</td><td style = \"text-align: left;\">18-24</td><td style = \"text-align: left;\">tyan_pros</td><td style = \"text-align: left;\">34</td></tr><tr class = \"dataRow\"><td class = \"rowLabel\" style = \"font-weight: bold; text-align: right;\">7</td><td style = \"text-align: left;\">1990</td><td style = \"text-align: left;\">18-24</td><td style = \"text-align: left;\">muuo_lkm</td><td style = \"text-align: left;\">49301</td></tr><tr class = \"dataRow\"><td class = \"rowLabel\" style = \"font-weight: bold; text-align: right;\">8</td><td style = \"text-align: left;\">1990</td><td style = \"text-align: left;\">18-24</td><td style = \"text-align: left;\">muuo_pros</td><td style = \"text-align: left;\">17</td></tr><tr class = \"dataRow\"><td class = \"rowLabel\" style = \"font-weight: bold; text-align: right;\">9</td><td style = \"text-align: left;\">1990</td><td style = \"text-align: left;\">25-34</td><td style = \"text-align: left;\">akuo_lkm</td><td style = \"text-align: left;\">416027</td></tr><tr class = \"dataRow\"><td class = \"rowLabel\" style = \"font-weight: bold; text-align: right;\">10</td><td style = \"text-align: left;\">1990</td><td style = \"text-align: left;\">25-34</td><td style = \"text-align: left;\">akuo_pros</td><td style = \"text-align: left;\">55</td></tr><tr class = \"dataRow\"><td class = \"rowLabel\" style = \"font-weight: bold; text-align: right;\">11</td><td style = \"text-align: left;\">1990</td><td style = \"text-align: left;\">25-34</td><td style = \"text-align: left;\">tyoo_lkm</td><td style = \"text-align: left;\">329104</td></tr><tr class = \"dataRow\"><td class = \"rowLabel\" style = \"font-weight: bold; text-align: right;\">12</td><td style = \"text-align: left;\">1990</td><td style = \"text-align: left;\">25-34</td><td style = \"text-align: left;\">tyoo_pros</td><td style = \"text-align: left;\">50</td></tr><tr class = \"dataRow\"><td class = \"rowLabel\" style = \"font-weight: bold; text-align: right;\">13</td><td style = \"text-align: left;\">1990</td><td style = \"text-align: left;\">25-34</td><td style = \"text-align: left;\">tyan_lkm</td><td style = \"text-align: left;\">285334</td></tr><tr><td style = \"text-align: right;\">&vellip;</td><td style = \"text-align: left;\">&vellip;</td><td style = \"text-align: left;\">&vellip;</td><td style = \"text-align: left;\">&vellip;</td><td style = \"text-align: left;\">&vellip;</td></tr><tr class = \"dataRow\"><td class = \"rowLabel\" style = \"font-weight: bold; text-align: right;\">269</td><td style = \"text-align: left;\">2022</td><td style = \"text-align: left;\">45-54</td><td style = \"text-align: left;\">tyan_lkm</td><td style = \"text-align: left;\">282554</td></tr><tr class = \"dataRow\"><td class = \"rowLabel\" style = \"font-weight: bold; text-align: right;\">270</td><td style = \"text-align: left;\">2022</td><td style = \"text-align: left;\">45-54</td><td style = \"text-align: left;\">tyan_pros</td><td style = \"text-align: left;\">60</td></tr><tr class = \"dataRow\"><td class = \"rowLabel\" style = \"font-weight: bold; text-align: right;\">271</td><td style = \"text-align: left;\">2022</td><td style = \"text-align: left;\">45-54</td><td style = \"text-align: left;\">muuo_lkm</td><td style = \"text-align: left;\">97701</td></tr><tr class = \"dataRow\"><td class = \"rowLabel\" style = \"font-weight: bold; text-align: right;\">272</td><td style = \"text-align: left;\">2022</td><td style = \"text-align: left;\">45-54</td><td style = \"text-align: left;\">muuo_pros</td><td style = \"text-align: left;\">16</td></tr><tr class = \"dataRow\"><td class = \"rowLabel\" style = \"font-weight: bold; text-align: right;\">273</td><td style = \"text-align: left;\">2022</td><td style = \"text-align: left;\">55-64</td><td style = \"text-align: left;\">akuo_lkm</td><td style = \"text-align: left;\">279325</td></tr><tr class = \"dataRow\"><td class = \"rowLabel\" style = \"font-weight: bold; text-align: right;\">274</td><td style = \"text-align: left;\">2022</td><td style = \"text-align: left;\">55-64</td><td style = \"text-align: left;\">akuo_pros</td><td style = \"text-align: left;\">38</td></tr><tr class = \"dataRow\"><td class = \"rowLabel\" style = \"font-weight: bold; text-align: right;\">275</td><td style = \"text-align: left;\">2022</td><td style = \"text-align: left;\">55-64</td><td style = \"text-align: left;\">tyoo_lkm</td><td style = \"text-align: left;\">223090</td></tr><tr class = \"dataRow\"><td class = \"rowLabel\" style = \"font-weight: bold; text-align: right;\">276</td><td style = \"text-align: left;\">2022</td><td style = \"text-align: left;\">55-64</td><td style = \"text-align: left;\">tyoo_pros</td><td style = \"text-align: left;\">38</td></tr><tr class = \"dataRow\"><td class = \"rowLabel\" style = \"font-weight: bold; text-align: right;\">277</td><td style = \"text-align: left;\">2022</td><td style = \"text-align: left;\">55-64</td><td style = \"text-align: left;\">tyan_lkm</td><td style = \"text-align: left;\">203326</td></tr><tr class = \"dataRow\"><td class = \"rowLabel\" style = \"font-weight: bold; text-align: right;\">278</td><td style = \"text-align: left;\">2022</td><td style = \"text-align: left;\">55-64</td><td style = \"text-align: left;\">tyan_pros</td><td style = \"text-align: left;\">45</td></tr><tr class = \"dataRow\"><td class = \"rowLabel\" style = \"font-weight: bold; text-align: right;\">279</td><td style = \"text-align: left;\">2022</td><td style = \"text-align: left;\">55-64</td><td style = \"text-align: left;\">muuo_lkm</td><td style = \"text-align: left;\">81638</td></tr><tr class = \"dataRow\"><td class = \"rowLabel\" style = \"font-weight: bold; text-align: right;\">280</td><td style = \"text-align: left;\">2022</td><td style = \"text-align: left;\">55-64</td><td style = \"text-align: left;\">muuo_pros</td><td style = \"text-align: left;\">11</td></tr></tbody></table></div>"
      ],
      "text/latex": [
       "\\begin{tabular}{r|cccc}\n",
       "\t& Vuosi & Ikä & Tiedot & Arvo\\\\\n",
       "\t\\hline\n",
       "\t& String & String & String & Any\\\\\n",
       "\t\\hline\n",
       "\t1 & 1990 & 18-24 & akuo\\_lkm & 204552 \\\\\n",
       "\t2 & 1990 & 18-24 & akuo\\_pros & 43 \\\\\n",
       "\t3 & 1990 & 18-24 & tyoo\\_lkm & 97831 \\\\\n",
       "\t4 & 1990 & 18-24 & tyoo\\_pros & 36 \\\\\n",
       "\t5 & 1990 & 18-24 & tyan\\_lkm & 82445 \\\\\n",
       "\t6 & 1990 & 18-24 & tyan\\_pros & 34 \\\\\n",
       "\t7 & 1990 & 18-24 & muuo\\_lkm & 49301 \\\\\n",
       "\t8 & 1990 & 18-24 & muuo\\_pros & 17 \\\\\n",
       "\t9 & 1990 & 25-34 & akuo\\_lkm & 416027 \\\\\n",
       "\t10 & 1990 & 25-34 & akuo\\_pros & 55 \\\\\n",
       "\t11 & 1990 & 25-34 & tyoo\\_lkm & 329104 \\\\\n",
       "\t12 & 1990 & 25-34 & tyoo\\_pros & 50 \\\\\n",
       "\t13 & 1990 & 25-34 & tyan\\_lkm & 285334 \\\\\n",
       "\t14 & 1990 & 25-34 & tyan\\_pros & 50 \\\\\n",
       "\t15 & 1990 & 25-34 & muuo\\_lkm & 127314 \\\\\n",
       "\t16 & 1990 & 25-34 & muuo\\_pros & 18 \\\\\n",
       "\t17 & 1990 & 35-44 & akuo\\_lkm & 481846 \\\\\n",
       "\t18 & 1990 & 35-44 & akuo\\_pros & 57 \\\\\n",
       "\t19 & 1990 & 35-44 & tyoo\\_lkm & 373050 \\\\\n",
       "\t20 & 1990 & 35-44 & tyoo\\_pros & 48 \\\\\n",
       "\t21 & 1990 & 35-44 & tyan\\_lkm & 338924 \\\\\n",
       "\t22 & 1990 & 35-44 & tyan\\_pros & 52 \\\\\n",
       "\t23 & 1990 & 35-44 & muuo\\_lkm & 172371 \\\\\n",
       "\t24 & 1990 & 35-44 & muuo\\_pros & 21 \\\\\n",
       "\t25 & 1990 & 45-54 & akuo\\_lkm & 291068 \\\\\n",
       "\t26 & 1990 & 45-54 & akuo\\_pros & 48 \\\\\n",
       "\t27 & 1990 & 45-54 & tyoo\\_lkm & 234914 \\\\\n",
       "\t28 & 1990 & 45-54 & tyoo\\_pros & 44 \\\\\n",
       "\t29 & 1990 & 45-54 & tyan\\_lkm & 209508 \\\\\n",
       "\t30 & 1990 & 45-54 & tyan\\_pros & 48 \\\\\n",
       "\t$\\dots$ & $\\dots$ & $\\dots$ & $\\dots$ & $\\dots$ \\\\\n",
       "\\end{tabular}\n"
      ],
      "text/plain": [
       "\u001b[1m280×4 DataFrame\u001b[0m\n",
       "\u001b[1m Row \u001b[0m│\u001b[1m Vuosi  \u001b[0m\u001b[1m Ikä    \u001b[0m\u001b[1m Tiedot    \u001b[0m\u001b[1m Arvo   \u001b[0m\n",
       "\u001b[1m     \u001b[0m│\u001b[90m String \u001b[0m\u001b[90m String \u001b[0m\u001b[90m String    \u001b[0m\u001b[90m Any    \u001b[0m\n",
       "─────┼───────────────────────────────────\n",
       "   1 │ 1990    18-24   akuo_lkm   204552\n",
       "   2 │ 1990    18-24   akuo_pros  43\n",
       "   3 │ 1990    18-24   tyoo_lkm   97831\n",
       "   4 │ 1990    18-24   tyoo_pros  36\n",
       "   5 │ 1990    18-24   tyan_lkm   82445\n",
       "   6 │ 1990    18-24   tyan_pros  34\n",
       "   7 │ 1990    18-24   muuo_lkm   49301\n",
       "   8 │ 1990    18-24   muuo_pros  17\n",
       "   9 │ 1990    25-34   akuo_lkm   416027\n",
       "  10 │ 1990    25-34   akuo_pros  55\n",
       "  11 │ 1990    25-34   tyoo_lkm   329104\n",
       "  ⋮  │   ⋮       ⋮         ⋮        ⋮\n",
       " 271 │ 2022    45-54   muuo_lkm   97701\n",
       " 272 │ 2022    45-54   muuo_pros  16\n",
       " 273 │ 2022    55-64   akuo_lkm   279325\n",
       " 274 │ 2022    55-64   akuo_pros  38\n",
       " 275 │ 2022    55-64   tyoo_lkm   223090\n",
       " 276 │ 2022    55-64   tyoo_pros  38\n",
       " 277 │ 2022    55-64   tyan_lkm   203326\n",
       " 278 │ 2022    55-64   tyan_pros  45\n",
       " 279 │ 2022    55-64   muuo_lkm   81638\n",
       " 280 │ 2022    55-64   muuo_pros  11\n",
       "\u001b[36m                         259 rows omitted\u001b[0m"
      ]
     },
     "execution_count": 3,
     "metadata": {},
     "output_type": "execute_result"
    }
   ],
   "source": [
    "#Dataa on todella hankala lukea tässä muodossa. Avataan sen rakennetta vähän. Kyseessä on moniulotteinen taulukko eli tietokuutio \n",
    "#(data cube). Tässä data on järjestelty kolmen muuttujan suhteen (kolmiuloitteinen): Vuosi, ikäryhmä ja tiedot. Jokainen havainto löytyy \n",
    "#kolmiuloitteisessa avaruudessa muuttujien risteyspisteestä. Julia esittää sen dict-muotoisena.\n",
    "\n",
    "#Koska moniulotteista dataa on hankala hahmottaa, muutetaan se dataframe-muotoon. Sitä varten on tunnettava Tilastokeskuksen PxWebin tapa\n",
    "#esittää data. \n",
    "\n",
    "#TEHTÄVÄ Selvitä tekoälyn avulla miten data PxWebissä säilötään. Kun saat sen selville, niin alla oleva koodikin avautuu paremmin. Tehtävää\n",
    "#ei tarvitse palauttaa. \n",
    "\n",
    "\n",
    "# Haetaan jokaisen dimension (ulottuvuus) kohdalla arvojen oikea järjestys. Jotta voidaan tehdä dataframe oikein, pitää tietää tarkalleen\n",
    "#missä järjestyksessä vuodet, ikäryhmät ja tiedot esiintyvät tietokuutiossa. \n",
    "\n",
    "iv = data[\"dimension\"][\"Vuosi\"][\"category\"][\"index\"]   #sanakirja, jota käytetään vuodet-dimension järjestämiseen. \n",
    "ii = data[\"dimension\"][\"Ikä\"][\"category\"][\"index\"] #sanakirja, jota käytetään iat-dimension järjestämiseen\n",
    "it = data[\"dimension\"][\"Tiedot\"][\"category\"][\"index\"] #sanakirja, jota käytetään tiedot-dimension järjestämiseen. \n",
    "\n",
    "# Järjestetään kaikki dimensiot indeksin mukaan. Keys hakee kaikki indeksit ja sort järjestää ne listaksi ehdon mukaan. \n",
    "vuodet = sort(collect(keys(iv)); by = k -> iv[k])\n",
    "iat  = sort(collect(keys(ii)); by = k -> ii[k])\n",
    "tiedot  = sort(collect(keys(it)); by = k -> it[k])\n",
    "\n",
    "arvot = data[\"value\"]  # Arvot yhdessä vektorissa\n",
    "\n",
    "# Luodaan kaikki datan yhdistelmät järjestyksessä: Vuosi -> Ikä -> Tiedot (Tiedot vaihtuu nopeimmin)\n",
    "yhdistelmat = [(v,i,t) for v in vuodet for i in iat for t in tiedot]\n",
    "\n",
    "# 4) Rakenna DataFrame\n",
    "df = DataFrame(Vuosi=[c[1] for c in yhdistelmat],\n",
    "               Ikä  =[c[2] for c in yhdistelmat],\n",
    "               Tiedot=[c[3] for c in yhdistelmat],\n",
    "               Arvo = arvot)\n",
    "\n",
    "\n",
    "\n",
    "df\n"
   ]
  },
  {
   "cell_type": "code",
   "execution_count": 4,
   "id": "6bf46a9e-8d3e-4c3e-b665-05d52b4a3709",
   "metadata": {},
   "outputs": [
    {
     "data": {
      "text/html": [
       "<div><div style = \"float: left;\"><span>280×4 DataFrame</span></div><div style = \"float: right; font-style: italic;\"><span>255 rows omitted</span></div><div style = \"clear: both;\"></div></div><div class = \"data-frame\" style = \"overflow-x: scroll;\"><table class = \"data-frame\" style = \"margin-bottom: 6px;\"><thead><tr class = \"columnLabelRow\"><th class = \"stubheadLabel\" style = \"font-weight: bold; text-align: right;\">Row</th><th style = \"text-align: left;\">Vuosi</th><th style = \"text-align: left;\">Ikä</th><th style = \"text-align: left;\">Tiedot</th><th style = \"text-align: left;\">Arvo</th></tr><tr class = \"columnLabelRow\"><th class = \"stubheadLabel\" style = \"font-weight: bold; text-align: right;\"></th><th title = \"String\" style = \"text-align: left;\">String</th><th title = \"String\" style = \"text-align: left;\">String</th><th title = \"String\" style = \"text-align: left;\">String</th><th title = \"Any\" style = \"text-align: left;\">Any</th></tr></thead><tbody><tr class = \"dataRow\"><td class = \"rowLabel\" style = \"font-weight: bold; text-align: right;\">1</td><td style = \"text-align: left;\">1990</td><td style = \"text-align: left;\">18-24</td><td style = \"text-align: left;\">Aikuiskoulutukseen osallistuneet, lkm</td><td style = \"text-align: left;\">204552</td></tr><tr class = \"dataRow\"><td class = \"rowLabel\" style = \"font-weight: bold; text-align: right;\">2</td><td style = \"text-align: left;\">1990</td><td style = \"text-align: left;\">18-24</td><td style = \"text-align: left;\">Aikuiskoulutukseen osallistuneet, %</td><td style = \"text-align: left;\">43</td></tr><tr class = \"dataRow\"><td class = \"rowLabel\" style = \"font-weight: bold; text-align: right;\">3</td><td style = \"text-align: left;\">1990</td><td style = \"text-align: left;\">18-24</td><td style = \"text-align: left;\">Työhön tai ammattiin liittyvään aikuiskoulutukseen osallistuneet, lkm</td><td style = \"text-align: left;\">97831</td></tr><tr class = \"dataRow\"><td class = \"rowLabel\" style = \"font-weight: bold; text-align: right;\">4</td><td style = \"text-align: left;\">1990</td><td style = \"text-align: left;\">18-24</td><td style = \"text-align: left;\">Työhön tai ammattiin liittyvään aikuiskoulutukseen osallistuneet, %</td><td style = \"text-align: left;\">36</td></tr><tr class = \"dataRow\"><td class = \"rowLabel\" style = \"font-weight: bold; text-align: right;\">5</td><td style = \"text-align: left;\">1990</td><td style = \"text-align: left;\">18-24</td><td style = \"text-align: left;\">Työnantajan tukemaan koulutukseen (henkilöstökoulutukseen) osallistuneet, lkm</td><td style = \"text-align: left;\">82445</td></tr><tr class = \"dataRow\"><td class = \"rowLabel\" style = \"font-weight: bold; text-align: right;\">6</td><td style = \"text-align: left;\">1990</td><td style = \"text-align: left;\">18-24</td><td style = \"text-align: left;\">Työnantajan tukemaan koulutukseen (henkilöstökoulutukseen) osallistuneet, %</td><td style = \"text-align: left;\">34</td></tr><tr class = \"dataRow\"><td class = \"rowLabel\" style = \"font-weight: bold; text-align: right;\">7</td><td style = \"text-align: left;\">1990</td><td style = \"text-align: left;\">18-24</td><td style = \"text-align: left;\">Muuhun kuin työhön tai ammattiin liittyvään aikuiskoulutukseen osallistuneet, lkm</td><td style = \"text-align: left;\">49301</td></tr><tr class = \"dataRow\"><td class = \"rowLabel\" style = \"font-weight: bold; text-align: right;\">8</td><td style = \"text-align: left;\">1990</td><td style = \"text-align: left;\">18-24</td><td style = \"text-align: left;\">Muuhun kuin työhön tai ammattiin liittyvään aikuiskoulutukseen osallistuneet, %</td><td style = \"text-align: left;\">17</td></tr><tr class = \"dataRow\"><td class = \"rowLabel\" style = \"font-weight: bold; text-align: right;\">9</td><td style = \"text-align: left;\">1990</td><td style = \"text-align: left;\">25-34</td><td style = \"text-align: left;\">Aikuiskoulutukseen osallistuneet, lkm</td><td style = \"text-align: left;\">416027</td></tr><tr class = \"dataRow\"><td class = \"rowLabel\" style = \"font-weight: bold; text-align: right;\">10</td><td style = \"text-align: left;\">1990</td><td style = \"text-align: left;\">25-34</td><td style = \"text-align: left;\">Aikuiskoulutukseen osallistuneet, %</td><td style = \"text-align: left;\">55</td></tr><tr class = \"dataRow\"><td class = \"rowLabel\" style = \"font-weight: bold; text-align: right;\">11</td><td style = \"text-align: left;\">1990</td><td style = \"text-align: left;\">25-34</td><td style = \"text-align: left;\">Työhön tai ammattiin liittyvään aikuiskoulutukseen osallistuneet, lkm</td><td style = \"text-align: left;\">329104</td></tr><tr class = \"dataRow\"><td class = \"rowLabel\" style = \"font-weight: bold; text-align: right;\">12</td><td style = \"text-align: left;\">1990</td><td style = \"text-align: left;\">25-34</td><td style = \"text-align: left;\">Työhön tai ammattiin liittyvään aikuiskoulutukseen osallistuneet, %</td><td style = \"text-align: left;\">50</td></tr><tr class = \"dataRow\"><td class = \"rowLabel\" style = \"font-weight: bold; text-align: right;\">13</td><td style = \"text-align: left;\">1990</td><td style = \"text-align: left;\">25-34</td><td style = \"text-align: left;\">Työnantajan tukemaan koulutukseen (henkilöstökoulutukseen) osallistuneet, lkm</td><td style = \"text-align: left;\">285334</td></tr><tr><td style = \"text-align: right;\">&vellip;</td><td style = \"text-align: left;\">&vellip;</td><td style = \"text-align: left;\">&vellip;</td><td style = \"text-align: left;\">&vellip;</td><td style = \"text-align: left;\">&vellip;</td></tr><tr class = \"dataRow\"><td class = \"rowLabel\" style = \"font-weight: bold; text-align: right;\">269</td><td style = \"text-align: left;\">2022</td><td style = \"text-align: left;\">45-54</td><td style = \"text-align: left;\">Työnantajan tukemaan koulutukseen (henkilöstökoulutukseen) osallistuneet, lkm</td><td style = \"text-align: left;\">282554</td></tr><tr class = \"dataRow\"><td class = \"rowLabel\" style = \"font-weight: bold; text-align: right;\">270</td><td style = \"text-align: left;\">2022</td><td style = \"text-align: left;\">45-54</td><td style = \"text-align: left;\">Työnantajan tukemaan koulutukseen (henkilöstökoulutukseen) osallistuneet, %</td><td style = \"text-align: left;\">60</td></tr><tr class = \"dataRow\"><td class = \"rowLabel\" style = \"font-weight: bold; text-align: right;\">271</td><td style = \"text-align: left;\">2022</td><td style = \"text-align: left;\">45-54</td><td style = \"text-align: left;\">Muuhun kuin työhön tai ammattiin liittyvään aikuiskoulutukseen osallistuneet, lkm</td><td style = \"text-align: left;\">97701</td></tr><tr class = \"dataRow\"><td class = \"rowLabel\" style = \"font-weight: bold; text-align: right;\">272</td><td style = \"text-align: left;\">2022</td><td style = \"text-align: left;\">45-54</td><td style = \"text-align: left;\">Muuhun kuin työhön tai ammattiin liittyvään aikuiskoulutukseen osallistuneet, %</td><td style = \"text-align: left;\">16</td></tr><tr class = \"dataRow\"><td class = \"rowLabel\" style = \"font-weight: bold; text-align: right;\">273</td><td style = \"text-align: left;\">2022</td><td style = \"text-align: left;\">55-64</td><td style = \"text-align: left;\">Aikuiskoulutukseen osallistuneet, lkm</td><td style = \"text-align: left;\">279325</td></tr><tr class = \"dataRow\"><td class = \"rowLabel\" style = \"font-weight: bold; text-align: right;\">274</td><td style = \"text-align: left;\">2022</td><td style = \"text-align: left;\">55-64</td><td style = \"text-align: left;\">Aikuiskoulutukseen osallistuneet, %</td><td style = \"text-align: left;\">38</td></tr><tr class = \"dataRow\"><td class = \"rowLabel\" style = \"font-weight: bold; text-align: right;\">275</td><td style = \"text-align: left;\">2022</td><td style = \"text-align: left;\">55-64</td><td style = \"text-align: left;\">Työhön tai ammattiin liittyvään aikuiskoulutukseen osallistuneet, lkm</td><td style = \"text-align: left;\">223090</td></tr><tr class = \"dataRow\"><td class = \"rowLabel\" style = \"font-weight: bold; text-align: right;\">276</td><td style = \"text-align: left;\">2022</td><td style = \"text-align: left;\">55-64</td><td style = \"text-align: left;\">Työhön tai ammattiin liittyvään aikuiskoulutukseen osallistuneet, %</td><td style = \"text-align: left;\">38</td></tr><tr class = \"dataRow\"><td class = \"rowLabel\" style = \"font-weight: bold; text-align: right;\">277</td><td style = \"text-align: left;\">2022</td><td style = \"text-align: left;\">55-64</td><td style = \"text-align: left;\">Työnantajan tukemaan koulutukseen (henkilöstökoulutukseen) osallistuneet, lkm</td><td style = \"text-align: left;\">203326</td></tr><tr class = \"dataRow\"><td class = \"rowLabel\" style = \"font-weight: bold; text-align: right;\">278</td><td style = \"text-align: left;\">2022</td><td style = \"text-align: left;\">55-64</td><td style = \"text-align: left;\">Työnantajan tukemaan koulutukseen (henkilöstökoulutukseen) osallistuneet, %</td><td style = \"text-align: left;\">45</td></tr><tr class = \"dataRow\"><td class = \"rowLabel\" style = \"font-weight: bold; text-align: right;\">279</td><td style = \"text-align: left;\">2022</td><td style = \"text-align: left;\">55-64</td><td style = \"text-align: left;\">Muuhun kuin työhön tai ammattiin liittyvään aikuiskoulutukseen osallistuneet, lkm</td><td style = \"text-align: left;\">81638</td></tr><tr class = \"dataRow\"><td class = \"rowLabel\" style = \"font-weight: bold; text-align: right;\">280</td><td style = \"text-align: left;\">2022</td><td style = \"text-align: left;\">55-64</td><td style = \"text-align: left;\">Muuhun kuin työhön tai ammattiin liittyvään aikuiskoulutukseen osallistuneet, %</td><td style = \"text-align: left;\">11</td></tr></tbody></table></div>"
      ],
      "text/latex": [
       "\\begin{tabular}{r|cccc}\n",
       "\t& Vuosi & Ikä & Tiedot & \\\\\n",
       "\t\\hline\n",
       "\t& String & String & String & \\\\\n",
       "\t\\hline\n",
       "\t1 & 1990 & 18-24 & Aikuiskoulutukseen osallistuneet, lkm & $\\dots$ \\\\\n",
       "\t2 & 1990 & 18-24 & Aikuiskoulutukseen osallistuneet, \\% & $\\dots$ \\\\\n",
       "\t3 & 1990 & 18-24 & Työhön tai ammattiin liittyvään aikuiskoulutukseen osallistuneet, lkm & $\\dots$ \\\\\n",
       "\t4 & 1990 & 18-24 & Työhön tai ammattiin liittyvään aikuiskoulutukseen osallistuneet, \\% & $\\dots$ \\\\\n",
       "\t5 & 1990 & 18-24 & Työnantajan tukemaan koulutukseen (henkilöstökoulutukseen) osallistuneet, lkm & $\\dots$ \\\\\n",
       "\t6 & 1990 & 18-24 & Työnantajan tukemaan koulutukseen (henkilöstökoulutukseen) osallistuneet, \\% & $\\dots$ \\\\\n",
       "\t7 & 1990 & 18-24 & Muuhun kuin työhön tai ammattiin liittyvään aikuiskoulutukseen osallistuneet, lkm & $\\dots$ \\\\\n",
       "\t8 & 1990 & 18-24 & Muuhun kuin työhön tai ammattiin liittyvään aikuiskoulutukseen osallistuneet, \\% & $\\dots$ \\\\\n",
       "\t9 & 1990 & 25-34 & Aikuiskoulutukseen osallistuneet, lkm & $\\dots$ \\\\\n",
       "\t10 & 1990 & 25-34 & Aikuiskoulutukseen osallistuneet, \\% & $\\dots$ \\\\\n",
       "\t11 & 1990 & 25-34 & Työhön tai ammattiin liittyvään aikuiskoulutukseen osallistuneet, lkm & $\\dots$ \\\\\n",
       "\t12 & 1990 & 25-34 & Työhön tai ammattiin liittyvään aikuiskoulutukseen osallistuneet, \\% & $\\dots$ \\\\\n",
       "\t13 & 1990 & 25-34 & Työnantajan tukemaan koulutukseen (henkilöstökoulutukseen) osallistuneet, lkm & $\\dots$ \\\\\n",
       "\t14 & 1990 & 25-34 & Työnantajan tukemaan koulutukseen (henkilöstökoulutukseen) osallistuneet, \\% & $\\dots$ \\\\\n",
       "\t15 & 1990 & 25-34 & Muuhun kuin työhön tai ammattiin liittyvään aikuiskoulutukseen osallistuneet, lkm & $\\dots$ \\\\\n",
       "\t16 & 1990 & 25-34 & Muuhun kuin työhön tai ammattiin liittyvään aikuiskoulutukseen osallistuneet, \\% & $\\dots$ \\\\\n",
       "\t17 & 1990 & 35-44 & Aikuiskoulutukseen osallistuneet, lkm & $\\dots$ \\\\\n",
       "\t18 & 1990 & 35-44 & Aikuiskoulutukseen osallistuneet, \\% & $\\dots$ \\\\\n",
       "\t19 & 1990 & 35-44 & Työhön tai ammattiin liittyvään aikuiskoulutukseen osallistuneet, lkm & $\\dots$ \\\\\n",
       "\t20 & 1990 & 35-44 & Työhön tai ammattiin liittyvään aikuiskoulutukseen osallistuneet, \\% & $\\dots$ \\\\\n",
       "\t21 & 1990 & 35-44 & Työnantajan tukemaan koulutukseen (henkilöstökoulutukseen) osallistuneet, lkm & $\\dots$ \\\\\n",
       "\t22 & 1990 & 35-44 & Työnantajan tukemaan koulutukseen (henkilöstökoulutukseen) osallistuneet, \\% & $\\dots$ \\\\\n",
       "\t23 & 1990 & 35-44 & Muuhun kuin työhön tai ammattiin liittyvään aikuiskoulutukseen osallistuneet, lkm & $\\dots$ \\\\\n",
       "\t24 & 1990 & 35-44 & Muuhun kuin työhön tai ammattiin liittyvään aikuiskoulutukseen osallistuneet, \\% & $\\dots$ \\\\\n",
       "\t25 & 1990 & 45-54 & Aikuiskoulutukseen osallistuneet, lkm & $\\dots$ \\\\\n",
       "\t26 & 1990 & 45-54 & Aikuiskoulutukseen osallistuneet, \\% & $\\dots$ \\\\\n",
       "\t27 & 1990 & 45-54 & Työhön tai ammattiin liittyvään aikuiskoulutukseen osallistuneet, lkm & $\\dots$ \\\\\n",
       "\t28 & 1990 & 45-54 & Työhön tai ammattiin liittyvään aikuiskoulutukseen osallistuneet, \\% & $\\dots$ \\\\\n",
       "\t29 & 1990 & 45-54 & Työnantajan tukemaan koulutukseen (henkilöstökoulutukseen) osallistuneet, lkm & $\\dots$ \\\\\n",
       "\t30 & 1990 & 45-54 & Työnantajan tukemaan koulutukseen (henkilöstökoulutukseen) osallistuneet, \\% & $\\dots$ \\\\\n",
       "\t$\\dots$ & $\\dots$ & $\\dots$ & $\\dots$ &  \\\\\n",
       "\\end{tabular}\n"
      ],
      "text/plain": [
       "\u001b[1m280×4 DataFrame\u001b[0m\n",
       "\u001b[1m Row \u001b[0m│\u001b[1m Vuosi  \u001b[0m\u001b[1m Ikä    \u001b[0m\u001b[1m Tiedot                            \u001b[0m\u001b[1m Arvo   \u001b[0m\n",
       "\u001b[1m     \u001b[0m│\u001b[90m String \u001b[0m\u001b[90m String \u001b[0m\u001b[90m String                            \u001b[0m\u001b[90m Any    \u001b[0m\n",
       "─────┼───────────────────────────────────────────────────────────\n",
       "   1 │ 1990    18-24   Aikuiskoulutukseen osallistuneet…  204552\n",
       "   2 │ 1990    18-24   Aikuiskoulutukseen osallistuneet…  43\n",
       "   3 │ 1990    18-24   Työhön tai ammattiin liittyvään …  97831\n",
       "   4 │ 1990    18-24   Työhön tai ammattiin liittyvään …  36\n",
       "   5 │ 1990    18-24   Työnantajan tukemaan koulutuksee…  82445\n",
       "   6 │ 1990    18-24   Työnantajan tukemaan koulutuksee…  34\n",
       "   7 │ 1990    18-24   Muuhun kuin työhön tai ammattiin…  49301\n",
       "   8 │ 1990    18-24   Muuhun kuin työhön tai ammattiin…  17\n",
       "   9 │ 1990    25-34   Aikuiskoulutukseen osallistuneet…  416027\n",
       "  10 │ 1990    25-34   Aikuiskoulutukseen osallistuneet…  55\n",
       "  11 │ 1990    25-34   Työhön tai ammattiin liittyvään …  329104\n",
       "  ⋮  │   ⋮       ⋮                     ⋮                    ⋮\n",
       " 271 │ 2022    45-54   Muuhun kuin työhön tai ammattiin…  97701\n",
       " 272 │ 2022    45-54   Muuhun kuin työhön tai ammattiin…  16\n",
       " 273 │ 2022    55-64   Aikuiskoulutukseen osallistuneet…  279325\n",
       " 274 │ 2022    55-64   Aikuiskoulutukseen osallistuneet…  38\n",
       " 275 │ 2022    55-64   Työhön tai ammattiin liittyvään …  223090\n",
       " 276 │ 2022    55-64   Työhön tai ammattiin liittyvään …  38\n",
       " 277 │ 2022    55-64   Työnantajan tukemaan koulutuksee…  203326\n",
       " 278 │ 2022    55-64   Työnantajan tukemaan koulutuksee…  45\n",
       " 279 │ 2022    55-64   Muuhun kuin työhön tai ammattiin…  81638\n",
       " 280 │ 2022    55-64   Muuhun kuin työhön tai ammattiin…  11\n",
       "\u001b[36m                                                 259 rows omitted\u001b[0m"
      ]
     },
     "execution_count": 4,
     "metadata": {},
     "output_type": "execute_result"
    }
   ],
   "source": [
    "#Huomataan, että Tiedot-sarakkeessa ei ole muuttujalle selkeää suomenkielistä selitettä. Haetaan koodeja \n",
    "#vastaavat selitteet. \n",
    "\n",
    "labels = data[\"dimension\"][\"Tiedot\"][\"category\"][\"label\"]\n",
    "df.Tiedot = [get(labels, k, k) for k in df.Tiedot]\n",
    "\n",
    "df"
   ]
  },
  {
   "cell_type": "code",
   "execution_count": 5,
   "id": "c74ef728-f7dc-40b5-aaa1-510fb17221fd",
   "metadata": {},
   "outputs": [
    {
     "data": {
      "text/html": [
       "<div><div style = \"float: left;\"><span>35×10 DataFrame</span></div><div style = \"float: right; font-style: italic;\"><span>10 rows omitted</span></div><div style = \"clear: both;\"></div></div><div class = \"data-frame\" style = \"overflow-x: scroll;\"><table class = \"data-frame\" style = \"margin-bottom: 6px;\"><thead><tr class = \"columnLabelRow\"><th class = \"stubheadLabel\" style = \"font-weight: bold; text-align: right;\">Row</th><th style = \"text-align: left;\">Vuosi</th><th style = \"text-align: left;\">Ikä</th><th style = \"text-align: left;\">Aikuiskoulutukseen osallistuneet, lkm</th><th style = \"text-align: left;\">Aikuiskoulutukseen osallistuneet, %</th><th style = \"text-align: left;\">Työhön tai ammattiin liittyvään aikuiskoulutukseen osallistuneet, lkm</th><th style = \"text-align: left;\">Työhön tai ammattiin liittyvään aikuiskoulutukseen osallistuneet, %</th><th style = \"text-align: left;\">Työnantajan tukemaan koulutukseen (henkilöstökoulutukseen) osallistuneet, lkm</th><th style = \"text-align: left;\">Työnantajan tukemaan koulutukseen (henkilöstökoulutukseen) osallistuneet, %</th><th style = \"text-align: left;\">Muuhun kuin työhön tai ammattiin liittyvään aikuiskoulutukseen osallistuneet, lkm</th><th style = \"text-align: left;\">Muuhun kuin työhön tai ammattiin liittyvään aikuiskoulutukseen osallistuneet, %</th></tr><tr class = \"columnLabelRow\"><th class = \"stubheadLabel\" style = \"font-weight: bold; text-align: right;\"></th><th title = \"String\" style = \"text-align: left;\">String</th><th title = \"String\" style = \"text-align: left;\">String</th><th title = \"Any\" style = \"text-align: left;\">Any</th><th title = \"Any\" style = \"text-align: left;\">Any</th><th title = \"Any\" style = \"text-align: left;\">Any</th><th title = \"Any\" style = \"text-align: left;\">Any</th><th title = \"Any\" style = \"text-align: left;\">Any</th><th title = \"Any\" style = \"text-align: left;\">Any</th><th title = \"Any\" style = \"text-align: left;\">Any</th><th title = \"Any\" style = \"text-align: left;\">Any</th></tr></thead><tbody><tr class = \"dataRow\"><td class = \"rowLabel\" style = \"font-weight: bold; text-align: right;\">1</td><td style = \"text-align: left;\">1990</td><td style = \"text-align: left;\">18-24</td><td style = \"text-align: left;\">204552</td><td style = \"text-align: left;\">43</td><td style = \"text-align: left;\">97831</td><td style = \"text-align: left;\">36</td><td style = \"text-align: left;\">82445</td><td style = \"text-align: left;\">34</td><td style = \"text-align: left;\">49301</td><td style = \"text-align: left;\">17</td></tr><tr class = \"dataRow\"><td class = \"rowLabel\" style = \"font-weight: bold; text-align: right;\">2</td><td style = \"text-align: left;\">1990</td><td style = \"text-align: left;\">25-34</td><td style = \"text-align: left;\">416027</td><td style = \"text-align: left;\">55</td><td style = \"text-align: left;\">329104</td><td style = \"text-align: left;\">50</td><td style = \"text-align: left;\">285334</td><td style = \"text-align: left;\">50</td><td style = \"text-align: left;\">127314</td><td style = \"text-align: left;\">18</td></tr><tr class = \"dataRow\"><td class = \"rowLabel\" style = \"font-weight: bold; text-align: right;\">3</td><td style = \"text-align: left;\">1990</td><td style = \"text-align: left;\">35-44</td><td style = \"text-align: left;\">481846</td><td style = \"text-align: left;\">57</td><td style = \"text-align: left;\">373050</td><td style = \"text-align: left;\">48</td><td style = \"text-align: left;\">338924</td><td style = \"text-align: left;\">52</td><td style = \"text-align: left;\">172371</td><td style = \"text-align: left;\">21</td></tr><tr class = \"dataRow\"><td class = \"rowLabel\" style = \"font-weight: bold; text-align: right;\">4</td><td style = \"text-align: left;\">1990</td><td style = \"text-align: left;\">45-54</td><td style = \"text-align: left;\">291068</td><td style = \"text-align: left;\">48</td><td style = \"text-align: left;\">234914</td><td style = \"text-align: left;\">44</td><td style = \"text-align: left;\">209508</td><td style = \"text-align: left;\">48</td><td style = \"text-align: left;\">111111</td><td style = \"text-align: left;\">18</td></tr><tr class = \"dataRow\"><td class = \"rowLabel\" style = \"font-weight: bold; text-align: right;\">5</td><td style = \"text-align: left;\">1990</td><td style = \"text-align: left;\">55-64</td><td style = \"text-align: left;\">132963</td><td style = \"text-align: left;\">25</td><td style = \"text-align: left;\">57283</td><td style = \"text-align: left;\">27</td><td style = \"text-align: left;\">52524</td><td style = \"text-align: left;\">37</td><td style = \"text-align: left;\">85202</td><td style = \"text-align: left;\">16</td></tr><tr class = \"dataRow\"><td class = \"rowLabel\" style = \"font-weight: bold; text-align: right;\">6</td><td style = \"text-align: left;\">1995</td><td style = \"text-align: left;\">18-24</td><td style = \"text-align: left;\">183534</td><td style = \"text-align: left;\">42</td><td style = \"text-align: left;\">50555</td><td style = \"text-align: left;\">27</td><td style = \"text-align: left;\">37360</td><td style = \"text-align: left;\">33</td><td style = \"text-align: left;\">36170</td><td style = \"text-align: left;\">18</td></tr><tr class = \"dataRow\"><td class = \"rowLabel\" style = \"font-weight: bold; text-align: right;\">7</td><td style = \"text-align: left;\">1995</td><td style = \"text-align: left;\">25-34</td><td style = \"text-align: left;\">381866</td><td style = \"text-align: left;\">53</td><td style = \"text-align: left;\">260675</td><td style = \"text-align: left;\">44</td><td style = \"text-align: left;\">204640</td><td style = \"text-align: left;\">50</td><td style = \"text-align: left;\">126507</td><td style = \"text-align: left;\">19</td></tr><tr class = \"dataRow\"><td class = \"rowLabel\" style = \"font-weight: bold; text-align: right;\">8</td><td style = \"text-align: left;\">1995</td><td style = \"text-align: left;\">35-44</td><td style = \"text-align: left;\">425144</td><td style = \"text-align: left;\">54</td><td style = \"text-align: left;\">325990</td><td style = \"text-align: left;\">45</td><td style = \"text-align: left;\">264282</td><td style = \"text-align: left;\">53</td><td style = \"text-align: left;\">147087</td><td style = \"text-align: left;\">19</td></tr><tr class = \"dataRow\"><td class = \"rowLabel\" style = \"font-weight: bold; text-align: right;\">9</td><td style = \"text-align: left;\">1995</td><td style = \"text-align: left;\">45-54</td><td style = \"text-align: left;\">404908</td><td style = \"text-align: left;\">54</td><td style = \"text-align: left;\">317436</td><td style = \"text-align: left;\">47</td><td style = \"text-align: left;\">261089</td><td style = \"text-align: left;\">57</td><td style = \"text-align: left;\">131040</td><td style = \"text-align: left;\">17</td></tr><tr class = \"dataRow\"><td class = \"rowLabel\" style = \"font-weight: bold; text-align: right;\">10</td><td style = \"text-align: left;\">1995</td><td style = \"text-align: left;\">55-64</td><td style = \"text-align: left;\">160102</td><td style = \"text-align: left;\">31</td><td style = \"text-align: left;\">77434</td><td style = \"text-align: left;\">33</td><td style = \"text-align: left;\">63460</td><td style = \"text-align: left;\">51</td><td style = \"text-align: left;\">77844</td><td style = \"text-align: left;\">15</td></tr><tr class = \"dataRow\"><td class = \"rowLabel\" style = \"font-weight: bold; text-align: right;\">11</td><td style = \"text-align: left;\">2000</td><td style = \"text-align: left;\">18-24</td><td style = \"text-align: left;\">225413</td><td style = \"text-align: left;\">49</td><td style = \"text-align: left;\">77432</td><td style = \"text-align: left;\">41</td><td style = \"text-align: left;\">62174</td><td style = \"text-align: left;\">46</td><td style = \"text-align: left;\">39338</td><td style = \"text-align: left;\">19</td></tr><tr class = \"dataRow\"><td class = \"rowLabel\" style = \"font-weight: bold; text-align: right;\">12</td><td style = \"text-align: left;\">2000</td><td style = \"text-align: left;\">25-34</td><td style = \"text-align: left;\">409527</td><td style = \"text-align: left;\">62</td><td style = \"text-align: left;\">298999</td><td style = \"text-align: left;\">56</td><td style = \"text-align: left;\">241792</td><td style = \"text-align: left;\">57</td><td style = \"text-align: left;\">121145</td><td style = \"text-align: left;\">20</td></tr><tr class = \"dataRow\"><td class = \"rowLabel\" style = \"font-weight: bold; text-align: right;\">13</td><td style = \"text-align: left;\">2000</td><td style = \"text-align: left;\">35-44</td><td style = \"text-align: left;\">474888</td><td style = \"text-align: left;\">62</td><td style = \"text-align: left;\">388827</td><td style = \"text-align: left;\">56</td><td style = \"text-align: left;\">322034</td><td style = \"text-align: left;\">61</td><td style = \"text-align: left;\">122872</td><td style = \"text-align: left;\">17</td></tr><tr><td style = \"text-align: right;\">&vellip;</td><td style = \"text-align: left;\">&vellip;</td><td style = \"text-align: left;\">&vellip;</td><td style = \"text-align: left;\">&vellip;</td><td style = \"text-align: left;\">&vellip;</td><td style = \"text-align: left;\">&vellip;</td><td style = \"text-align: left;\">&vellip;</td><td style = \"text-align: left;\">&vellip;</td><td style = \"text-align: left;\">&vellip;</td><td style = \"text-align: left;\">&vellip;</td><td style = \"text-align: left;\">&vellip;</td></tr><tr class = \"dataRow\"><td class = \"rowLabel\" style = \"font-weight: bold; text-align: right;\">24</td><td style = \"text-align: left;\">2012</td><td style = \"text-align: left;\">45-54</td><td style = \"text-align: left;\">432854</td><td style = \"text-align: left;\">58</td><td style = \"text-align: left;\">374717</td><td style = \"text-align: left;\">55</td><td style = \"text-align: left;\">320955</td><td style = \"text-align: left;\">59</td><td style = \"text-align: left;\">126913</td><td style = \"text-align: left;\">17</td></tr><tr class = \"dataRow\"><td class = \"rowLabel\" style = \"font-weight: bold; text-align: right;\">25</td><td style = \"text-align: left;\">2012</td><td style = \"text-align: left;\">55-64</td><td style = \"text-align: left;\">275125</td><td style = \"text-align: left;\">36</td><td style = \"text-align: left;\">213344</td><td style = \"text-align: left;\">42</td><td style = \"text-align: left;\">187453</td><td style = \"text-align: left;\">51</td><td style = \"text-align: left;\">108158</td><td style = \"text-align: left;\">14</td></tr><tr class = \"dataRow\"><td class = \"rowLabel\" style = \"font-weight: bold; text-align: right;\">26</td><td style = \"text-align: left;\">2017</td><td style = \"text-align: left;\">18-24</td><td style = \"text-align: left;\">177849</td><td style = \"text-align: left;\">38</td><td style = \"text-align: left;\">68176</td><td style = \"text-align: left;\">40</td><td style = \"text-align: left;\">47385</td><td style = \"text-align: left;\">48</td><td style = \"text-align: left;\">21819</td><td style = \"text-align: left;\">12</td></tr><tr class = \"dataRow\"><td class = \"rowLabel\" style = \"font-weight: bold; text-align: right;\">27</td><td style = \"text-align: left;\">2017</td><td style = \"text-align: left;\">25-34</td><td style = \"text-align: left;\">395268</td><td style = \"text-align: left;\">57</td><td style = \"text-align: left;\">287581</td><td style = \"text-align: left;\">55</td><td style = \"text-align: left;\">243614</td><td style = \"text-align: left;\">59</td><td style = \"text-align: left;\">75927</td><td style = \"text-align: left;\">13</td></tr><tr class = \"dataRow\"><td class = \"rowLabel\" style = \"font-weight: bold; text-align: right;\">28</td><td style = \"text-align: left;\">2017</td><td style = \"text-align: left;\">35-44</td><td style = \"text-align: left;\">372384</td><td style = \"text-align: left;\">56</td><td style = \"text-align: left;\">314841</td><td style = \"text-align: left;\">53</td><td style = \"text-align: left;\">251803</td><td style = \"text-align: left;\">55</td><td style = \"text-align: left;\">100754</td><td style = \"text-align: left;\">16</td></tr><tr class = \"dataRow\"><td class = \"rowLabel\" style = \"font-weight: bold; text-align: right;\">29</td><td style = \"text-align: left;\">2017</td><td style = \"text-align: left;\">45-54</td><td style = \"text-align: left;\">377242</td><td style = \"text-align: left;\">52</td><td style = \"text-align: left;\">318425</td><td style = \"text-align: left;\">49</td><td style = \"text-align: left;\">278187</td><td style = \"text-align: left;\">56</td><td style = \"text-align: left;\">95400</td><td style = \"text-align: left;\">14</td></tr><tr class = \"dataRow\"><td class = \"rowLabel\" style = \"font-weight: bold; text-align: right;\">30</td><td style = \"text-align: left;\">2017</td><td style = \"text-align: left;\">55-64</td><td style = \"text-align: left;\">261327</td><td style = \"text-align: left;\">35</td><td style = \"text-align: left;\">202465</td><td style = \"text-align: left;\">36</td><td style = \"text-align: left;\">183148</td><td style = \"text-align: left;\">44</td><td style = \"text-align: left;\">91661</td><td style = \"text-align: left;\">12</td></tr><tr class = \"dataRow\"><td class = \"rowLabel\" style = \"font-weight: bold; text-align: right;\">31</td><td style = \"text-align: left;\">2022</td><td style = \"text-align: left;\">18-24</td><td style = \"text-align: left;\">178091</td><td style = \"text-align: left;\">44</td><td style = \"text-align: left;\">36380</td><td style = \"text-align: left;\">30</td><td style = \"text-align: left;\">34476</td><td style = \"text-align: left;\">40</td><td style = \"text-align: left;\">23050</td><td style = \"text-align: left;\">16</td></tr><tr class = \"dataRow\"><td class = \"rowLabel\" style = \"font-weight: bold; text-align: right;\">32</td><td style = \"text-align: left;\">2022</td><td style = \"text-align: left;\">25-34</td><td style = \"text-align: left;\">291667</td><td style = \"text-align: left;\">48</td><td style = \"text-align: left;\">221542</td><td style = \"text-align: left;\">48</td><td style = \"text-align: left;\">211472</td><td style = \"text-align: left;\">55</td><td style = \"text-align: left;\">72531</td><td style = \"text-align: left;\">15</td></tr><tr class = \"dataRow\"><td class = \"rowLabel\" style = \"font-weight: bold; text-align: right;\">33</td><td style = \"text-align: left;\">2022</td><td style = \"text-align: left;\">35-44</td><td style = \"text-align: left;\">362093</td><td style = \"text-align: left;\">53</td><td style = \"text-align: left;\">303634</td><td style = \"text-align: left;\">50</td><td style = \"text-align: left;\">287854</td><td style = \"text-align: left;\">57</td><td style = \"text-align: left;\">103609</td><td style = \"text-align: left;\">16</td></tr><tr class = \"dataRow\"><td class = \"rowLabel\" style = \"font-weight: bold; text-align: right;\">34</td><td style = \"text-align: left;\">2022</td><td style = \"text-align: left;\">45-54</td><td style = \"text-align: left;\">341665</td><td style = \"text-align: left;\">54</td><td style = \"text-align: left;\">296806</td><td style = \"text-align: left;\">52</td><td style = \"text-align: left;\">282554</td><td style = \"text-align: left;\">60</td><td style = \"text-align: left;\">97701</td><td style = \"text-align: left;\">16</td></tr><tr class = \"dataRow\"><td class = \"rowLabel\" style = \"font-weight: bold; text-align: right;\">35</td><td style = \"text-align: left;\">2022</td><td style = \"text-align: left;\">55-64</td><td style = \"text-align: left;\">279325</td><td style = \"text-align: left;\">38</td><td style = \"text-align: left;\">223090</td><td style = \"text-align: left;\">38</td><td style = \"text-align: left;\">203326</td><td style = \"text-align: left;\">45</td><td style = \"text-align: left;\">81638</td><td style = \"text-align: left;\">11</td></tr></tbody></table></div>"
      ],
      "text/latex": [
       "\\begin{tabular}{r|ccccc}\n",
       "\t& Vuosi & Ikä & Aikuiskoulutukseen osallistuneet, lkm & Aikuiskoulutukseen osallistuneet, \\% & \\\\\n",
       "\t\\hline\n",
       "\t& String & String & Any & Any & \\\\\n",
       "\t\\hline\n",
       "\t1 & 1990 & 18-24 & 204552 & 43 & $\\dots$ \\\\\n",
       "\t2 & 1990 & 25-34 & 416027 & 55 & $\\dots$ \\\\\n",
       "\t3 & 1990 & 35-44 & 481846 & 57 & $\\dots$ \\\\\n",
       "\t4 & 1990 & 45-54 & 291068 & 48 & $\\dots$ \\\\\n",
       "\t5 & 1990 & 55-64 & 132963 & 25 & $\\dots$ \\\\\n",
       "\t6 & 1995 & 18-24 & 183534 & 42 & $\\dots$ \\\\\n",
       "\t7 & 1995 & 25-34 & 381866 & 53 & $\\dots$ \\\\\n",
       "\t8 & 1995 & 35-44 & 425144 & 54 & $\\dots$ \\\\\n",
       "\t9 & 1995 & 45-54 & 404908 & 54 & $\\dots$ \\\\\n",
       "\t10 & 1995 & 55-64 & 160102 & 31 & $\\dots$ \\\\\n",
       "\t11 & 2000 & 18-24 & 225413 & 49 & $\\dots$ \\\\\n",
       "\t12 & 2000 & 25-34 & 409527 & 62 & $\\dots$ \\\\\n",
       "\t13 & 2000 & 35-44 & 474888 & 62 & $\\dots$ \\\\\n",
       "\t14 & 2000 & 45-54 & 463366 & 56 & $\\dots$ \\\\\n",
       "\t15 & 2000 & 55-64 & 180863 & 33 & $\\dots$ \\\\\n",
       "\t16 & 2006 & 18-24 & 198693 & 43 & $\\dots$ \\\\\n",
       "\t17 & 2006 & 25-34 & 373428 & 58 & $\\dots$ \\\\\n",
       "\t18 & 2006 & 35-44 & 441924 & 61 & $\\dots$ \\\\\n",
       "\t19 & 2006 & 45-54 & 430683 & 56 & $\\dots$ \\\\\n",
       "\t20 & 2006 & 55-64 & 262001 & 37 & $\\dots$ \\\\\n",
       "\t21 & 2012 & 18-24 & 197995 & 42 & $\\dots$ \\\\\n",
       "\t22 & 2012 & 25-34 & 394207 & 58 & $\\dots$ \\\\\n",
       "\t23 & 2012 & 35-44 & 415339 & 63 & $\\dots$ \\\\\n",
       "\t24 & 2012 & 45-54 & 432854 & 58 & $\\dots$ \\\\\n",
       "\t25 & 2012 & 55-64 & 275125 & 36 & $\\dots$ \\\\\n",
       "\t26 & 2017 & 18-24 & 177849 & 38 & $\\dots$ \\\\\n",
       "\t27 & 2017 & 25-34 & 395268 & 57 & $\\dots$ \\\\\n",
       "\t28 & 2017 & 35-44 & 372384 & 56 & $\\dots$ \\\\\n",
       "\t29 & 2017 & 45-54 & 377242 & 52 & $\\dots$ \\\\\n",
       "\t30 & 2017 & 55-64 & 261327 & 35 & $\\dots$ \\\\\n",
       "\t$\\dots$ & $\\dots$ & $\\dots$ & $\\dots$ & $\\dots$ &  \\\\\n",
       "\\end{tabular}\n"
      ],
      "text/plain": [
       "\u001b[1m35×10 DataFrame\u001b[0m\n",
       "\u001b[1m Row \u001b[0m│\u001b[1m Vuosi  \u001b[0m\u001b[1m Ikä    \u001b[0m\u001b[1m Aikuiskoulutukseen osallistuneet, lkm \u001b[0m\u001b[1m Aikuiskoulutukse\u001b[0m ⋯\n",
       "\u001b[1m     \u001b[0m│\u001b[90m String \u001b[0m\u001b[90m String \u001b[0m\u001b[90m Any                                   \u001b[0m\u001b[90m Any             \u001b[0m ⋯\n",
       "─────┼──────────────────────────────────────────────────────────────────────────\n",
       "   1 │ 1990    18-24   204552                                 43               ⋯\n",
       "   2 │ 1990    25-34   416027                                 55\n",
       "   3 │ 1990    35-44   481846                                 57\n",
       "   4 │ 1990    45-54   291068                                 48\n",
       "   5 │ 1990    55-64   132963                                 25               ⋯\n",
       "   6 │ 1995    18-24   183534                                 42\n",
       "   7 │ 1995    25-34   381866                                 53\n",
       "   8 │ 1995    35-44   425144                                 54\n",
       "   9 │ 1995    45-54   404908                                 54               ⋯\n",
       "  10 │ 1995    55-64   160102                                 31\n",
       "  11 │ 2000    18-24   225413                                 49\n",
       "  ⋮  │   ⋮       ⋮                       ⋮                                     ⋱\n",
       "  26 │ 2017    18-24   177849                                 38\n",
       "  27 │ 2017    25-34   395268                                 57               ⋯\n",
       "  28 │ 2017    35-44   372384                                 56\n",
       "  29 │ 2017    45-54   377242                                 52\n",
       "  30 │ 2017    55-64   261327                                 35\n",
       "  31 │ 2022    18-24   178091                                 44               ⋯\n",
       "  32 │ 2022    25-34   291667                                 48\n",
       "  33 │ 2022    35-44   362093                                 53\n",
       "  34 │ 2022    45-54   341665                                 54\n",
       "  35 │ 2022    55-64   279325                                 38               ⋯\n",
       "\u001b[36m                                                   7 columns and 14 rows omitted\u001b[0m"
      ]
     },
     "execution_count": 5,
     "metadata": {},
     "output_type": "execute_result"
    }
   ],
   "source": [
    "#Nyt huomataan, että dataframe on ns. pitkässä muodossa (long). Eli jokainen rivi on yksi havainto. Toisin\n",
    "#sanoen kaikista mahdollisista muuttujayhdistelmistä on tehty oma rivi. Mittarit puolestaan ovat yhdessä sarakkeessa.\n",
    "\n",
    "#Lyhyessä dataframessa (short) puolestaan jokainen rivi vastaa yhtä havaintoyksikköä ja eri mittarit ovat eri sarakkeissa. \n",
    "#Muunnetaan dataframe lyhyeen muotoon, eli pivotoidaan se. \n",
    "\n",
    "#Muistisääntö: Pitkä data on helppo analysoida, lyhyt data on helppo lukea. \n",
    "\n",
    "df = unstack(df, [:Vuosi, :Ikä], :Tiedot, :Arvo)\n",
    "\n",
    "\n"
   ]
  },
  {
   "cell_type": "code",
   "execution_count": 6,
   "id": "c3333abe-7bde-4238-bfeb-fb3f942c9a72",
   "metadata": {},
   "outputs": [
    {
     "data": {
      "text/html": [
       "<div><div style = \"float: left;\"><span>280×4 DataFrame</span></div><div style = \"float: right; font-style: italic;\"><span>255 rows omitted</span></div><div style = \"clear: both;\"></div></div><div class = \"data-frame\" style = \"overflow-x: scroll;\"><table class = \"data-frame\" style = \"margin-bottom: 6px;\"><thead><tr class = \"columnLabelRow\"><th class = \"stubheadLabel\" style = \"font-weight: bold; text-align: right;\">Row</th><th style = \"text-align: left;\">Vuosi</th><th style = \"text-align: left;\">Ikä</th><th style = \"text-align: left;\">Tiedot</th><th style = \"text-align: left;\">Arvo</th></tr><tr class = \"columnLabelRow\"><th class = \"stubheadLabel\" style = \"font-weight: bold; text-align: right;\"></th><th title = \"String\" style = \"text-align: left;\">String</th><th title = \"String\" style = \"text-align: left;\">String</th><th title = \"String\" style = \"text-align: left;\">String</th><th title = \"Any\" style = \"text-align: left;\">Any</th></tr></thead><tbody><tr class = \"dataRow\"><td class = \"rowLabel\" style = \"font-weight: bold; text-align: right;\">1</td><td style = \"text-align: left;\">1990</td><td style = \"text-align: left;\">18-24</td><td style = \"text-align: left;\">Aikuiskoulutukseen osallistuneet, lkm</td><td style = \"text-align: left;\">204552</td></tr><tr class = \"dataRow\"><td class = \"rowLabel\" style = \"font-weight: bold; text-align: right;\">2</td><td style = \"text-align: left;\">1990</td><td style = \"text-align: left;\">25-34</td><td style = \"text-align: left;\">Aikuiskoulutukseen osallistuneet, lkm</td><td style = \"text-align: left;\">416027</td></tr><tr class = \"dataRow\"><td class = \"rowLabel\" style = \"font-weight: bold; text-align: right;\">3</td><td style = \"text-align: left;\">1990</td><td style = \"text-align: left;\">35-44</td><td style = \"text-align: left;\">Aikuiskoulutukseen osallistuneet, lkm</td><td style = \"text-align: left;\">481846</td></tr><tr class = \"dataRow\"><td class = \"rowLabel\" style = \"font-weight: bold; text-align: right;\">4</td><td style = \"text-align: left;\">1990</td><td style = \"text-align: left;\">45-54</td><td style = \"text-align: left;\">Aikuiskoulutukseen osallistuneet, lkm</td><td style = \"text-align: left;\">291068</td></tr><tr class = \"dataRow\"><td class = \"rowLabel\" style = \"font-weight: bold; text-align: right;\">5</td><td style = \"text-align: left;\">1990</td><td style = \"text-align: left;\">55-64</td><td style = \"text-align: left;\">Aikuiskoulutukseen osallistuneet, lkm</td><td style = \"text-align: left;\">132963</td></tr><tr class = \"dataRow\"><td class = \"rowLabel\" style = \"font-weight: bold; text-align: right;\">6</td><td style = \"text-align: left;\">1995</td><td style = \"text-align: left;\">18-24</td><td style = \"text-align: left;\">Aikuiskoulutukseen osallistuneet, lkm</td><td style = \"text-align: left;\">183534</td></tr><tr class = \"dataRow\"><td class = \"rowLabel\" style = \"font-weight: bold; text-align: right;\">7</td><td style = \"text-align: left;\">1995</td><td style = \"text-align: left;\">25-34</td><td style = \"text-align: left;\">Aikuiskoulutukseen osallistuneet, lkm</td><td style = \"text-align: left;\">381866</td></tr><tr class = \"dataRow\"><td class = \"rowLabel\" style = \"font-weight: bold; text-align: right;\">8</td><td style = \"text-align: left;\">1995</td><td style = \"text-align: left;\">35-44</td><td style = \"text-align: left;\">Aikuiskoulutukseen osallistuneet, lkm</td><td style = \"text-align: left;\">425144</td></tr><tr class = \"dataRow\"><td class = \"rowLabel\" style = \"font-weight: bold; text-align: right;\">9</td><td style = \"text-align: left;\">1995</td><td style = \"text-align: left;\">45-54</td><td style = \"text-align: left;\">Aikuiskoulutukseen osallistuneet, lkm</td><td style = \"text-align: left;\">404908</td></tr><tr class = \"dataRow\"><td class = \"rowLabel\" style = \"font-weight: bold; text-align: right;\">10</td><td style = \"text-align: left;\">1995</td><td style = \"text-align: left;\">55-64</td><td style = \"text-align: left;\">Aikuiskoulutukseen osallistuneet, lkm</td><td style = \"text-align: left;\">160102</td></tr><tr class = \"dataRow\"><td class = \"rowLabel\" style = \"font-weight: bold; text-align: right;\">11</td><td style = \"text-align: left;\">2000</td><td style = \"text-align: left;\">18-24</td><td style = \"text-align: left;\">Aikuiskoulutukseen osallistuneet, lkm</td><td style = \"text-align: left;\">225413</td></tr><tr class = \"dataRow\"><td class = \"rowLabel\" style = \"font-weight: bold; text-align: right;\">12</td><td style = \"text-align: left;\">2000</td><td style = \"text-align: left;\">25-34</td><td style = \"text-align: left;\">Aikuiskoulutukseen osallistuneet, lkm</td><td style = \"text-align: left;\">409527</td></tr><tr class = \"dataRow\"><td class = \"rowLabel\" style = \"font-weight: bold; text-align: right;\">13</td><td style = \"text-align: left;\">2000</td><td style = \"text-align: left;\">35-44</td><td style = \"text-align: left;\">Aikuiskoulutukseen osallistuneet, lkm</td><td style = \"text-align: left;\">474888</td></tr><tr><td style = \"text-align: right;\">&vellip;</td><td style = \"text-align: left;\">&vellip;</td><td style = \"text-align: left;\">&vellip;</td><td style = \"text-align: left;\">&vellip;</td><td style = \"text-align: left;\">&vellip;</td></tr><tr class = \"dataRow\"><td class = \"rowLabel\" style = \"font-weight: bold; text-align: right;\">269</td><td style = \"text-align: left;\">2012</td><td style = \"text-align: left;\">45-54</td><td style = \"text-align: left;\">Muuhun kuin työhön tai ammattiin liittyvään aikuiskoulutukseen osallistuneet, %</td><td style = \"text-align: left;\">17</td></tr><tr class = \"dataRow\"><td class = \"rowLabel\" style = \"font-weight: bold; text-align: right;\">270</td><td style = \"text-align: left;\">2012</td><td style = \"text-align: left;\">55-64</td><td style = \"text-align: left;\">Muuhun kuin työhön tai ammattiin liittyvään aikuiskoulutukseen osallistuneet, %</td><td style = \"text-align: left;\">14</td></tr><tr class = \"dataRow\"><td class = \"rowLabel\" style = \"font-weight: bold; text-align: right;\">271</td><td style = \"text-align: left;\">2017</td><td style = \"text-align: left;\">18-24</td><td style = \"text-align: left;\">Muuhun kuin työhön tai ammattiin liittyvään aikuiskoulutukseen osallistuneet, %</td><td style = \"text-align: left;\">12</td></tr><tr class = \"dataRow\"><td class = \"rowLabel\" style = \"font-weight: bold; text-align: right;\">272</td><td style = \"text-align: left;\">2017</td><td style = \"text-align: left;\">25-34</td><td style = \"text-align: left;\">Muuhun kuin työhön tai ammattiin liittyvään aikuiskoulutukseen osallistuneet, %</td><td style = \"text-align: left;\">13</td></tr><tr class = \"dataRow\"><td class = \"rowLabel\" style = \"font-weight: bold; text-align: right;\">273</td><td style = \"text-align: left;\">2017</td><td style = \"text-align: left;\">35-44</td><td style = \"text-align: left;\">Muuhun kuin työhön tai ammattiin liittyvään aikuiskoulutukseen osallistuneet, %</td><td style = \"text-align: left;\">16</td></tr><tr class = \"dataRow\"><td class = \"rowLabel\" style = \"font-weight: bold; text-align: right;\">274</td><td style = \"text-align: left;\">2017</td><td style = \"text-align: left;\">45-54</td><td style = \"text-align: left;\">Muuhun kuin työhön tai ammattiin liittyvään aikuiskoulutukseen osallistuneet, %</td><td style = \"text-align: left;\">14</td></tr><tr class = \"dataRow\"><td class = \"rowLabel\" style = \"font-weight: bold; text-align: right;\">275</td><td style = \"text-align: left;\">2017</td><td style = \"text-align: left;\">55-64</td><td style = \"text-align: left;\">Muuhun kuin työhön tai ammattiin liittyvään aikuiskoulutukseen osallistuneet, %</td><td style = \"text-align: left;\">12</td></tr><tr class = \"dataRow\"><td class = \"rowLabel\" style = \"font-weight: bold; text-align: right;\">276</td><td style = \"text-align: left;\">2022</td><td style = \"text-align: left;\">18-24</td><td style = \"text-align: left;\">Muuhun kuin työhön tai ammattiin liittyvään aikuiskoulutukseen osallistuneet, %</td><td style = \"text-align: left;\">16</td></tr><tr class = \"dataRow\"><td class = \"rowLabel\" style = \"font-weight: bold; text-align: right;\">277</td><td style = \"text-align: left;\">2022</td><td style = \"text-align: left;\">25-34</td><td style = \"text-align: left;\">Muuhun kuin työhön tai ammattiin liittyvään aikuiskoulutukseen osallistuneet, %</td><td style = \"text-align: left;\">15</td></tr><tr class = \"dataRow\"><td class = \"rowLabel\" style = \"font-weight: bold; text-align: right;\">278</td><td style = \"text-align: left;\">2022</td><td style = \"text-align: left;\">35-44</td><td style = \"text-align: left;\">Muuhun kuin työhön tai ammattiin liittyvään aikuiskoulutukseen osallistuneet, %</td><td style = \"text-align: left;\">16</td></tr><tr class = \"dataRow\"><td class = \"rowLabel\" style = \"font-weight: bold; text-align: right;\">279</td><td style = \"text-align: left;\">2022</td><td style = \"text-align: left;\">45-54</td><td style = \"text-align: left;\">Muuhun kuin työhön tai ammattiin liittyvään aikuiskoulutukseen osallistuneet, %</td><td style = \"text-align: left;\">16</td></tr><tr class = \"dataRow\"><td class = \"rowLabel\" style = \"font-weight: bold; text-align: right;\">280</td><td style = \"text-align: left;\">2022</td><td style = \"text-align: left;\">55-64</td><td style = \"text-align: left;\">Muuhun kuin työhön tai ammattiin liittyvään aikuiskoulutukseen osallistuneet, %</td><td style = \"text-align: left;\">11</td></tr></tbody></table></div>"
      ],
      "text/latex": [
       "\\begin{tabular}{r|cccc}\n",
       "\t& Vuosi & Ikä & Tiedot & Arvo\\\\\n",
       "\t\\hline\n",
       "\t& String & String & String & Any\\\\\n",
       "\t\\hline\n",
       "\t1 & 1990 & 18-24 & Aikuiskoulutukseen osallistuneet, lkm & 204552 \\\\\n",
       "\t2 & 1990 & 25-34 & Aikuiskoulutukseen osallistuneet, lkm & 416027 \\\\\n",
       "\t3 & 1990 & 35-44 & Aikuiskoulutukseen osallistuneet, lkm & 481846 \\\\\n",
       "\t4 & 1990 & 45-54 & Aikuiskoulutukseen osallistuneet, lkm & 291068 \\\\\n",
       "\t5 & 1990 & 55-64 & Aikuiskoulutukseen osallistuneet, lkm & 132963 \\\\\n",
       "\t6 & 1995 & 18-24 & Aikuiskoulutukseen osallistuneet, lkm & 183534 \\\\\n",
       "\t7 & 1995 & 25-34 & Aikuiskoulutukseen osallistuneet, lkm & 381866 \\\\\n",
       "\t8 & 1995 & 35-44 & Aikuiskoulutukseen osallistuneet, lkm & 425144 \\\\\n",
       "\t9 & 1995 & 45-54 & Aikuiskoulutukseen osallistuneet, lkm & 404908 \\\\\n",
       "\t10 & 1995 & 55-64 & Aikuiskoulutukseen osallistuneet, lkm & 160102 \\\\\n",
       "\t11 & 2000 & 18-24 & Aikuiskoulutukseen osallistuneet, lkm & 225413 \\\\\n",
       "\t12 & 2000 & 25-34 & Aikuiskoulutukseen osallistuneet, lkm & 409527 \\\\\n",
       "\t13 & 2000 & 35-44 & Aikuiskoulutukseen osallistuneet, lkm & 474888 \\\\\n",
       "\t14 & 2000 & 45-54 & Aikuiskoulutukseen osallistuneet, lkm & 463366 \\\\\n",
       "\t15 & 2000 & 55-64 & Aikuiskoulutukseen osallistuneet, lkm & 180863 \\\\\n",
       "\t16 & 2006 & 18-24 & Aikuiskoulutukseen osallistuneet, lkm & 198693 \\\\\n",
       "\t17 & 2006 & 25-34 & Aikuiskoulutukseen osallistuneet, lkm & 373428 \\\\\n",
       "\t18 & 2006 & 35-44 & Aikuiskoulutukseen osallistuneet, lkm & 441924 \\\\\n",
       "\t19 & 2006 & 45-54 & Aikuiskoulutukseen osallistuneet, lkm & 430683 \\\\\n",
       "\t20 & 2006 & 55-64 & Aikuiskoulutukseen osallistuneet, lkm & 262001 \\\\\n",
       "\t21 & 2012 & 18-24 & Aikuiskoulutukseen osallistuneet, lkm & 197995 \\\\\n",
       "\t22 & 2012 & 25-34 & Aikuiskoulutukseen osallistuneet, lkm & 394207 \\\\\n",
       "\t23 & 2012 & 35-44 & Aikuiskoulutukseen osallistuneet, lkm & 415339 \\\\\n",
       "\t24 & 2012 & 45-54 & Aikuiskoulutukseen osallistuneet, lkm & 432854 \\\\\n",
       "\t25 & 2012 & 55-64 & Aikuiskoulutukseen osallistuneet, lkm & 275125 \\\\\n",
       "\t26 & 2017 & 18-24 & Aikuiskoulutukseen osallistuneet, lkm & 177849 \\\\\n",
       "\t27 & 2017 & 25-34 & Aikuiskoulutukseen osallistuneet, lkm & 395268 \\\\\n",
       "\t28 & 2017 & 35-44 & Aikuiskoulutukseen osallistuneet, lkm & 372384 \\\\\n",
       "\t29 & 2017 & 45-54 & Aikuiskoulutukseen osallistuneet, lkm & 377242 \\\\\n",
       "\t30 & 2017 & 55-64 & Aikuiskoulutukseen osallistuneet, lkm & 261327 \\\\\n",
       "\t$\\dots$ & $\\dots$ & $\\dots$ & $\\dots$ & $\\dots$ \\\\\n",
       "\\end{tabular}\n"
      ],
      "text/plain": [
       "\u001b[1m280×4 DataFrame\u001b[0m\n",
       "\u001b[1m Row \u001b[0m│\u001b[1m Vuosi  \u001b[0m\u001b[1m Ikä    \u001b[0m\u001b[1m Tiedot                            \u001b[0m\u001b[1m Arvo   \u001b[0m\n",
       "\u001b[1m     \u001b[0m│\u001b[90m String \u001b[0m\u001b[90m String \u001b[0m\u001b[90m String                            \u001b[0m\u001b[90m Any    \u001b[0m\n",
       "─────┼───────────────────────────────────────────────────────────\n",
       "   1 │ 1990    18-24   Aikuiskoulutukseen osallistuneet…  204552\n",
       "   2 │ 1990    25-34   Aikuiskoulutukseen osallistuneet…  416027\n",
       "   3 │ 1990    35-44   Aikuiskoulutukseen osallistuneet…  481846\n",
       "   4 │ 1990    45-54   Aikuiskoulutukseen osallistuneet…  291068\n",
       "   5 │ 1990    55-64   Aikuiskoulutukseen osallistuneet…  132963\n",
       "   6 │ 1995    18-24   Aikuiskoulutukseen osallistuneet…  183534\n",
       "   7 │ 1995    25-34   Aikuiskoulutukseen osallistuneet…  381866\n",
       "   8 │ 1995    35-44   Aikuiskoulutukseen osallistuneet…  425144\n",
       "   9 │ 1995    45-54   Aikuiskoulutukseen osallistuneet…  404908\n",
       "  10 │ 1995    55-64   Aikuiskoulutukseen osallistuneet…  160102\n",
       "  11 │ 2000    18-24   Aikuiskoulutukseen osallistuneet…  225413\n",
       "  ⋮  │   ⋮       ⋮                     ⋮                    ⋮\n",
       " 271 │ 2017    18-24   Muuhun kuin työhön tai ammattiin…  12\n",
       " 272 │ 2017    25-34   Muuhun kuin työhön tai ammattiin…  13\n",
       " 273 │ 2017    35-44   Muuhun kuin työhön tai ammattiin…  16\n",
       " 274 │ 2017    45-54   Muuhun kuin työhön tai ammattiin…  14\n",
       " 275 │ 2017    55-64   Muuhun kuin työhön tai ammattiin…  12\n",
       " 276 │ 2022    18-24   Muuhun kuin työhön tai ammattiin…  16\n",
       " 277 │ 2022    25-34   Muuhun kuin työhön tai ammattiin…  15\n",
       " 278 │ 2022    35-44   Muuhun kuin työhön tai ammattiin…  16\n",
       " 279 │ 2022    45-54   Muuhun kuin työhön tai ammattiin…  16\n",
       " 280 │ 2022    55-64   Muuhun kuin työhön tai ammattiin…  11\n",
       "\u001b[36m                                                 259 rows omitted\u001b[0m"
      ]
     },
     "execution_count": 6,
     "metadata": {},
     "output_type": "execute_result"
    }
   ],
   "source": [
    "#Muunnetaan takaisin pitkään muotoon. \n",
    "\n",
    "df = stack(df, Not([:Vuosi, :Ikä]), variable_name=:Tiedot, value_name=:Arvo)\n",
    "\n",
    "\n",
    "\n"
   ]
  },
  {
   "cell_type": "code",
   "execution_count": 7,
   "id": "d05e23d1-54bf-4513-9b1d-944880831035",
   "metadata": {},
   "outputs": [
    {
     "data": {
      "text/html": [
       "<div><div style = \"float: left;\"><span>5×4 DataFrame</span></div><div style = \"clear: both;\"></div></div><div class = \"data-frame\" style = \"overflow-x: scroll;\"><table class = \"data-frame\" style = \"margin-bottom: 6px;\"><thead><tr class = \"columnLabelRow\"><th class = \"stubheadLabel\" style = \"font-weight: bold; text-align: right;\">Row</th><th style = \"text-align: left;\">Ikä</th><th style = \"text-align: left;\">Aikuiskoulutukseen osallistuneet, lkm</th><th style = \"text-align: left;\">Aikuiskoulutukseen osallistuneet, %</th><th style = \"text-align: left;\">Työhön tai ammattiin liittyvään aikuiskoulutukseen osallistuneet, %</th></tr><tr class = \"columnLabelRow\"><th class = \"stubheadLabel\" style = \"font-weight: bold; text-align: right;\"></th><th title = \"String\" style = \"text-align: left;\">String</th><th title = \"Any\" style = \"text-align: left;\">Any</th><th title = \"Any\" style = \"text-align: left;\">Any</th><th title = \"Any\" style = \"text-align: left;\">Any</th></tr></thead><tbody><tr class = \"dataRow\"><td class = \"rowLabel\" style = \"font-weight: bold; text-align: right;\">1</td><td style = \"text-align: left;\">18-24</td><td style = \"text-align: left;\">178091</td><td style = \"text-align: left;\">44</td><td style = \"text-align: left;\">30</td></tr><tr class = \"dataRow\"><td class = \"rowLabel\" style = \"font-weight: bold; text-align: right;\">2</td><td style = \"text-align: left;\">25-34</td><td style = \"text-align: left;\">291667</td><td style = \"text-align: left;\">48</td><td style = \"text-align: left;\">48</td></tr><tr class = \"dataRow\"><td class = \"rowLabel\" style = \"font-weight: bold; text-align: right;\">3</td><td style = \"text-align: left;\">35-44</td><td style = \"text-align: left;\">362093</td><td style = \"text-align: left;\">53</td><td style = \"text-align: left;\">50</td></tr><tr class = \"dataRow\"><td class = \"rowLabel\" style = \"font-weight: bold; text-align: right;\">4</td><td style = \"text-align: left;\">45-54</td><td style = \"text-align: left;\">341665</td><td style = \"text-align: left;\">54</td><td style = \"text-align: left;\">52</td></tr><tr class = \"dataRow\"><td class = \"rowLabel\" style = \"font-weight: bold; text-align: right;\">5</td><td style = \"text-align: left;\">55-64</td><td style = \"text-align: left;\">279325</td><td style = \"text-align: left;\">38</td><td style = \"text-align: left;\">38</td></tr></tbody></table></div>"
      ],
      "text/latex": [
       "\\begin{tabular}{r|cccc}\n",
       "\t& Ikä & Aikuiskoulutukseen osallistuneet, lkm & Aikuiskoulutukseen osallistuneet, \\% & \\\\\n",
       "\t\\hline\n",
       "\t& String & Any & Any & \\\\\n",
       "\t\\hline\n",
       "\t1 & 18-24 & 178091 & 44 & $\\dots$ \\\\\n",
       "\t2 & 25-34 & 291667 & 48 & $\\dots$ \\\\\n",
       "\t3 & 35-44 & 362093 & 53 & $\\dots$ \\\\\n",
       "\t4 & 45-54 & 341665 & 54 & $\\dots$ \\\\\n",
       "\t5 & 55-64 & 279325 & 38 & $\\dots$ \\\\\n",
       "\\end{tabular}\n"
      ],
      "text/plain": [
       "\u001b[1m5×4 DataFrame\u001b[0m\n",
       "\u001b[1m Row \u001b[0m│\u001b[1m Ikä    \u001b[0m\u001b[1m Aikuiskoulutukseen osallistuneet, lkm \u001b[0m\u001b[1m Aikuiskoulutukseen osall\u001b[0m ⋯\n",
       "\u001b[1m     \u001b[0m│\u001b[90m String \u001b[0m\u001b[90m Any                                   \u001b[0m\u001b[90m Any                     \u001b[0m ⋯\n",
       "─────┼──────────────────────────────────────────────────────────────────────────\n",
       "   1 │ 18-24   178091                                 44                       ⋯\n",
       "   2 │ 25-34   291667                                 48\n",
       "   3 │ 35-44   362093                                 53\n",
       "   4 │ 45-54   341665                                 54\n",
       "   5 │ 55-64   279325                                 38                       ⋯\n",
       "\u001b[36m                                                               2 columns omitted\u001b[0m"
      ]
     },
     "execution_count": 7,
     "metadata": {},
     "output_type": "execute_result"
    }
   ],
   "source": [
    "#Analysoidaan dataa seuraavaksi tekemällä Pivot-taulukko, jossa osa datasta on suodatettu pois. \n",
    "\n",
    "using DataFrames\n",
    "\n",
    "# Valitaan vuosi ja kolme muuttujaa. \n",
    "vuosi = \"2022\"\n",
    "muuttujat = [\n",
    "    \"Aikuiskoulutukseen osallistuneet, %\",\n",
    "    \"Työhön tai ammattiin liittyvään aikuiskoulutukseen osallistuneet, %\",\n",
    "    \"Aikuiskoulutukseen osallistuneet, lkm\"\n",
    "]\n",
    "\n",
    "#Suodatetaan vuoden ja valitun kolmen muuttujan mukaan\n",
    "df_suod = filter(row -> row.Vuosi == vuosi && row.Tiedot in muuttujat, df)\n",
    "\n",
    "#Pivotoitodaan suodatettu dataframe ja esitetään se lyhyessä muodossa: rivit = Ikä, sarakkeet = Tiedot, solut = Arvo\n",
    "pivot  = unstack(df_suod, :Ikä, :Tiedot, :Arvo)   \n",
    "\n",
    "pivot\n",
    "\n",
    "#Tehtävä: Rivisummat ovat reilusti yli 100 %. Mieti, mistä tämä johtuu. "
   ]
  },
  {
   "cell_type": "code",
   "execution_count": 8,
   "id": "21fdb8ed-9ed5-4252-a45f-f8c8fa1d3454",
   "metadata": {},
   "outputs": [
    {
     "ename": "LoadError",
     "evalue": "ArgumentError: column name :Aikuiskoulutukseen osallistuneet, lkm not found in the data frame",
     "output_type": "error",
     "traceback": [
      "ArgumentError: column name :Aikuiskoulutukseen osallistuneet, lkm not found in the data frame",
      "",
      "Stacktrace:",
      " [1] \u001b[0m\u001b[1mlookupname\u001b[22m",
      "\u001b[90m   @\u001b[39m \u001b[90mC:\\Users\\Installer\\.julia\\packages\\DataFrames\\rwKZk\\src\\other\\\u001b[39m\u001b[90m\u001b[4mindex.jl:431\u001b[24m\u001b[39m\u001b[90m [inlined]\u001b[39m",
      " [2] \u001b[0m\u001b[1mgetindex\u001b[22m",
      "\u001b[90m   @\u001b[39m \u001b[90mC:\\Users\\Installer\\.julia\\packages\\DataFrames\\rwKZk\\src\\other\\\u001b[39m\u001b[90m\u001b[4mindex.jl:440\u001b[24m\u001b[39m\u001b[90m [inlined]\u001b[39m",
      " [3] \u001b[0m\u001b[1mgetindex\u001b[22m",
      "\u001b[90m   @\u001b[39m \u001b[90mC:\\Users\\Installer\\.julia\\packages\\DataFrames\\rwKZk\\src\\other\\\u001b[39m\u001b[90m\u001b[4mindex.jl:441\u001b[24m\u001b[39m\u001b[90m [inlined]\u001b[39m",
      " [4] \u001b[0m\u001b[1mgetindex\u001b[22m\u001b[0m\u001b[1m(\u001b[22m\u001b[90mdf\u001b[39m::\u001b[0mDataFrame, ::\u001b[0mtypeof(!), \u001b[90mcol_ind\u001b[39m::\u001b[0mString\u001b[0m\u001b[1m)\u001b[22m",
      "\u001b[90m   @\u001b[39m \u001b[35mDataFrames\u001b[39m \u001b[90mC:\\Users\\Installer\\.julia\\packages\\DataFrames\\rwKZk\\src\\dataframe\\\u001b[39m\u001b[90m\u001b[4mdataframe.jl:557\u001b[24m\u001b[39m",
      " [5] top-level scope",
      "\u001b[90m   @\u001b[39m \u001b[90m\u001b[4mIn[8]:3\u001b[24m\u001b[39m"
     ]
    }
   ],
   "source": [
    "#Nyt kaikkien sarakkeiden tietotyyppi on Any. Muutetaan yksi niistä intiksi.\n",
    "\n",
    "df_suod[!, \"Aikuiskoulutukseen osallistuneet, lkm\"] = Int64.(df[!, \"Aikuiskoulutukseen osallistuneet, lkm\"])\n",
    "\n",
    "\n"
   ]
  },
  {
   "cell_type": "code",
   "execution_count": 9,
   "id": "96d2d956-cc44-43c6-a4d4-7d15c8ed0c66",
   "metadata": {},
   "outputs": [
    {
     "data": {
      "text/plain": [
       "4-element Vector{String}:\n",
       " \"Vuosi\"\n",
       " \"Ikä\"\n",
       " \"Tiedot\"\n",
       " \"Arvo\""
      ]
     },
     "execution_count": 9,
     "metadata": {},
     "output_type": "execute_result"
    }
   ],
   "source": [
    "#Saadaan virheilmoitus. Tutkitaan minkä nimisiä sarakkeita DataFramessa on. \n",
    "names(df_suod)\n"
   ]
  },
  {
   "cell_type": "code",
   "execution_count": 10,
   "id": "a9af513b-c061-4e70-bd10-0589be477e4c",
   "metadata": {},
   "outputs": [
    {
     "data": {
      "text/html": [
       "<div><div style = \"float: left;\"><span>5×4 DataFrame</span></div><div style = \"clear: both;\"></div></div><div class = \"data-frame\" style = \"overflow-x: scroll;\"><table class = \"data-frame\" style = \"margin-bottom: 6px;\"><thead><tr class = \"columnLabelRow\"><th class = \"stubheadLabel\" style = \"font-weight: bold; text-align: right;\">Row</th><th style = \"text-align: left;\">Vuosi</th><th style = \"text-align: left;\">Ikä</th><th style = \"text-align: left;\">Tiedot</th><th style = \"text-align: left;\">Arvo</th></tr><tr class = \"columnLabelRow\"><th class = \"stubheadLabel\" style = \"font-weight: bold; text-align: right;\"></th><th title = \"String\" style = \"text-align: left;\">String</th><th title = \"String\" style = \"text-align: left;\">String</th><th title = \"String\" style = \"text-align: left;\">String</th><th title = \"Any\" style = \"text-align: left;\">Any</th></tr></thead><tbody><tr class = \"dataRow\"><td class = \"rowLabel\" style = \"font-weight: bold; text-align: right;\">1</td><td style = \"text-align: left;\">2022</td><td style = \"text-align: left;\">18-24</td><td style = \"text-align: left;\">Aikuiskoulutukseen osallistuneet, lkm</td><td style = \"text-align: left;\">178091</td></tr><tr class = \"dataRow\"><td class = \"rowLabel\" style = \"font-weight: bold; text-align: right;\">2</td><td style = \"text-align: left;\">2022</td><td style = \"text-align: left;\">25-34</td><td style = \"text-align: left;\">Aikuiskoulutukseen osallistuneet, lkm</td><td style = \"text-align: left;\">291667</td></tr><tr class = \"dataRow\"><td class = \"rowLabel\" style = \"font-weight: bold; text-align: right;\">3</td><td style = \"text-align: left;\">2022</td><td style = \"text-align: left;\">35-44</td><td style = \"text-align: left;\">Aikuiskoulutukseen osallistuneet, lkm</td><td style = \"text-align: left;\">362093</td></tr><tr class = \"dataRow\"><td class = \"rowLabel\" style = \"font-weight: bold; text-align: right;\">4</td><td style = \"text-align: left;\">2022</td><td style = \"text-align: left;\">45-54</td><td style = \"text-align: left;\">Aikuiskoulutukseen osallistuneet, lkm</td><td style = \"text-align: left;\">341665</td></tr><tr class = \"dataRow\"><td class = \"rowLabel\" style = \"font-weight: bold; text-align: right;\">5</td><td style = \"text-align: left;\">2022</td><td style = \"text-align: left;\">55-64</td><td style = \"text-align: left;\">Aikuiskoulutukseen osallistuneet, lkm</td><td style = \"text-align: left;\">279325</td></tr></tbody></table></div>"
      ],
      "text/latex": [
       "\\begin{tabular}{r|cccc}\n",
       "\t& Vuosi & Ikä & Tiedot & Arvo\\\\\n",
       "\t\\hline\n",
       "\t& String & String & String & Any\\\\\n",
       "\t\\hline\n",
       "\t1 & 2022 & 18-24 & Aikuiskoulutukseen osallistuneet, lkm & 178091 \\\\\n",
       "\t2 & 2022 & 25-34 & Aikuiskoulutukseen osallistuneet, lkm & 291667 \\\\\n",
       "\t3 & 2022 & 35-44 & Aikuiskoulutukseen osallistuneet, lkm & 362093 \\\\\n",
       "\t4 & 2022 & 45-54 & Aikuiskoulutukseen osallistuneet, lkm & 341665 \\\\\n",
       "\t5 & 2022 & 55-64 & Aikuiskoulutukseen osallistuneet, lkm & 279325 \\\\\n",
       "\\end{tabular}\n"
      ],
      "text/plain": [
       "\u001b[1m5×4 DataFrame\u001b[0m\n",
       "\u001b[1m Row \u001b[0m│\u001b[1m Vuosi  \u001b[0m\u001b[1m Ikä    \u001b[0m\u001b[1m Tiedot                            \u001b[0m\u001b[1m Arvo   \u001b[0m\n",
       "\u001b[1m     \u001b[0m│\u001b[90m String \u001b[0m\u001b[90m String \u001b[0m\u001b[90m String                            \u001b[0m\u001b[90m Any    \u001b[0m\n",
       "─────┼───────────────────────────────────────────────────────────\n",
       "   1 │ 2022    18-24   Aikuiskoulutukseen osallistuneet…  178091\n",
       "   2 │ 2022    25-34   Aikuiskoulutukseen osallistuneet…  291667\n",
       "   3 │ 2022    35-44   Aikuiskoulutukseen osallistuneet…  362093\n",
       "   4 │ 2022    45-54   Aikuiskoulutukseen osallistuneet…  341665\n",
       "   5 │ 2022    55-64   Aikuiskoulutukseen osallistuneet…  279325"
      ]
     },
     "execution_count": 10,
     "metadata": {},
     "output_type": "execute_result"
    }
   ],
   "source": [
    "#Aikaisemmin tekemämme muutokset ovat vaikuttaneet siis ainoastaan esittämistapaan. Dataframen sarakkeiden nimet \n",
    "#Eivät ole muuttuneet. Tehdään uusi dataframe, johon suodatetaan pelkästään Aikuiskoulutuksen osallistuneiden lukumäärän\n",
    "#sisältävät arvot. \n",
    "\n",
    "df_aikkoul = subset(df_suod, :Tiedot => ByRow(==(\"Aikuiskoulutukseen osallistuneet, lkm\")))\n",
    "\n",
    "\n"
   ]
  },
  {
   "cell_type": "code",
   "execution_count": 11,
   "id": "421bfae3-5ba1-41de-8787-00fb9c0d431c",
   "metadata": {},
   "outputs": [
    {
     "data": {
      "text/html": [
       "<div><div style = \"float: left;\"><span>5×4 DataFrame</span></div><div style = \"clear: both;\"></div></div><div class = \"data-frame\" style = \"overflow-x: scroll;\"><table class = \"data-frame\" style = \"margin-bottom: 6px;\"><thead><tr class = \"columnLabelRow\"><th class = \"stubheadLabel\" style = \"font-weight: bold; text-align: right;\">Row</th><th style = \"text-align: left;\">Vuosi</th><th style = \"text-align: left;\">Ikä</th><th style = \"text-align: left;\">Tiedot</th><th style = \"text-align: left;\">Arvo</th></tr><tr class = \"columnLabelRow\"><th class = \"stubheadLabel\" style = \"font-weight: bold; text-align: right;\"></th><th title = \"String\" style = \"text-align: left;\">String</th><th title = \"String\" style = \"text-align: left;\">String</th><th title = \"String\" style = \"text-align: left;\">String</th><th title = \"Union{Missing, Int64}\" style = \"text-align: left;\">Int64?</th></tr></thead><tbody><tr class = \"dataRow\"><td class = \"rowLabel\" style = \"font-weight: bold; text-align: right;\">1</td><td style = \"text-align: left;\">2022</td><td style = \"text-align: left;\">18-24</td><td style = \"text-align: left;\">Aikuiskoulutukseen osallistuneet, lkm</td><td style = \"text-align: right;\">178091</td></tr><tr class = \"dataRow\"><td class = \"rowLabel\" style = \"font-weight: bold; text-align: right;\">2</td><td style = \"text-align: left;\">2022</td><td style = \"text-align: left;\">25-34</td><td style = \"text-align: left;\">Aikuiskoulutukseen osallistuneet, lkm</td><td style = \"text-align: right;\">291667</td></tr><tr class = \"dataRow\"><td class = \"rowLabel\" style = \"font-weight: bold; text-align: right;\">3</td><td style = \"text-align: left;\">2022</td><td style = \"text-align: left;\">35-44</td><td style = \"text-align: left;\">Aikuiskoulutukseen osallistuneet, lkm</td><td style = \"text-align: right;\">362093</td></tr><tr class = \"dataRow\"><td class = \"rowLabel\" style = \"font-weight: bold; text-align: right;\">4</td><td style = \"text-align: left;\">2022</td><td style = \"text-align: left;\">45-54</td><td style = \"text-align: left;\">Aikuiskoulutukseen osallistuneet, lkm</td><td style = \"text-align: right;\">341665</td></tr><tr class = \"dataRow\"><td class = \"rowLabel\" style = \"font-weight: bold; text-align: right;\">5</td><td style = \"text-align: left;\">2022</td><td style = \"text-align: left;\">55-64</td><td style = \"text-align: left;\">Aikuiskoulutukseen osallistuneet, lkm</td><td style = \"text-align: right;\">279325</td></tr></tbody></table></div>"
      ],
      "text/latex": [
       "\\begin{tabular}{r|cccc}\n",
       "\t& Vuosi & Ikä & Tiedot & Arvo\\\\\n",
       "\t\\hline\n",
       "\t& String & String & String & Int64?\\\\\n",
       "\t\\hline\n",
       "\t1 & 2022 & 18-24 & Aikuiskoulutukseen osallistuneet, lkm & 178091 \\\\\n",
       "\t2 & 2022 & 25-34 & Aikuiskoulutukseen osallistuneet, lkm & 291667 \\\\\n",
       "\t3 & 2022 & 35-44 & Aikuiskoulutukseen osallistuneet, lkm & 362093 \\\\\n",
       "\t4 & 2022 & 45-54 & Aikuiskoulutukseen osallistuneet, lkm & 341665 \\\\\n",
       "\t5 & 2022 & 55-64 & Aikuiskoulutukseen osallistuneet, lkm & 279325 \\\\\n",
       "\\end{tabular}\n"
      ],
      "text/plain": [
       "\u001b[1m5×4 DataFrame\u001b[0m\n",
       "\u001b[1m Row \u001b[0m│\u001b[1m Vuosi  \u001b[0m\u001b[1m Ikä    \u001b[0m\u001b[1m Tiedot                            \u001b[0m\u001b[1m Arvo   \u001b[0m\n",
       "\u001b[1m     \u001b[0m│\u001b[90m String \u001b[0m\u001b[90m String \u001b[0m\u001b[90m String                            \u001b[0m\u001b[90m Int64? \u001b[0m\n",
       "─────┼───────────────────────────────────────────────────────────\n",
       "   1 │ 2022    18-24   Aikuiskoulutukseen osallistuneet…  178091\n",
       "   2 │ 2022    25-34   Aikuiskoulutukseen osallistuneet…  291667\n",
       "   3 │ 2022    35-44   Aikuiskoulutukseen osallistuneet…  362093\n",
       "   4 │ 2022    45-54   Aikuiskoulutukseen osallistuneet…  341665\n",
       "   5 │ 2022    55-64   Aikuiskoulutukseen osallistuneet…  279325"
      ]
     },
     "execution_count": 11,
     "metadata": {},
     "output_type": "execute_result"
    }
   ],
   "source": [
    "#Muutetaan nyt sarakkeen Arvo tyypiksi int. Otetaan huomioon mahdollisuus, että sarakkeessa olisi puuttuvia\n",
    "#arvoja (missing).\n",
    "\n",
    "df_aikkoul[!, \"Arvo\"] = convert(Vector{Union{Missing, Int64}},\n",
    "    [x === missing ? missing : Int64(x) for x in df_aikkoul[!, \"Arvo\"]]\n",
    ")\n",
    "\n",
    "df_aikkoul\n",
    "\n",
    "\n"
   ]
  },
  {
   "cell_type": "code",
   "execution_count": 12,
   "id": "9a790f11-77b8-4b68-8202-d2143ad495c9",
   "metadata": {},
   "outputs": [
    {
     "data": {
      "text/plain": [
       "1452841"
      ]
     },
     "execution_count": 12,
     "metadata": {},
     "output_type": "execute_result"
    }
   ],
   "source": [
    "#Lasketaan lopuksi montako henkilöä osallistui aikuiskoulutukseen vuonna 2022. Laskeminen olisi onnistunut myös\n",
    "#ilman tyyppimuunnosta, koska kaikki sarakkeen arvot ovat kokonaislukuja. Jos näin ei olisi, niin laskeminen antaisi\n",
    "#virheilmoituksen. Myös desimaaliluvut kelpaisiva\n",
    "\n",
    "sum(df_aikkoul.Arvo)\n"
   ]
  },
  {
   "cell_type": "code",
   "execution_count": null,
   "id": "321d9f01-e315-4c5d-991c-c74274659291",
   "metadata": {},
   "outputs": [],
   "source": []
  }
 ],
 "metadata": {
  "kernelspec": {
   "display_name": "Julia 1.11.6",
   "language": "julia",
   "name": "julia-1.11"
  },
  "language_info": {
   "file_extension": ".jl",
   "mimetype": "application/julia",
   "name": "julia",
   "version": "1.11.6"
  }
 },
 "nbformat": 4,
 "nbformat_minor": 5
}
