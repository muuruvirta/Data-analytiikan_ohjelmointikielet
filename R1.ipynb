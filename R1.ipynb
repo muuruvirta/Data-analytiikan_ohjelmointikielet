{
 "cells": [
  {
   "cell_type": "code",
   "execution_count": 1,
   "id": "504f200d-935e-49d9-8b50-d11e5db38a92",
   "metadata": {},
   "outputs": [
    {
     "name": "stdout",
     "output_type": "stream",
     "text": [
      "[1] 42\n",
      "[1] 14.3\n",
      "[1] 81\n"
     ]
    }
   ],
   "source": [
    "#Tehtävä 1\n",
    "\n",
    "#a) Talleta muuttujaan summa tulos 25 + 17  ja tulosta tulos konsoliin.\n",
    "#b) Talleta muuttujaan osamaara tulos 100 / 7 pyöristettynä yhden desimaalin tarkkuuteen. Tulosta tulos konsoliin. \n",
    "#c) Talleta muuttujaan potenssi tulos 3^4 ja tulosta tulos konsoliin.\n",
    "\n",
    "summa <- 25 + 17\n",
    "osamaara <- round(100 / 7, digits = 1)\n",
    "potenssi <- 3^4\n",
    "\n",
    "print(summa)\n",
    "print(osamaara)\n",
    "print(potenssi)\n"
   ]
  },
  {
   "cell_type": "code",
   "execution_count": 2,
   "id": "43e33b7f-8bb2-4548-9dbf-37b73ef1b5a5",
   "metadata": {},
   "outputs": [
    {
     "name": "stdout",
     "output_type": "stream",
     "text": [
      "[1] \"x on suurempi kuin 10\"\n"
     ]
    }
   ],
   "source": [
    "#Tehtävä 2\n",
    "#Anna muuttujalle x arvoksi 15. Tee koodinpätkä, joka testaa onko muuttuja x suurempi, pienempi vai yhtä suuri kuin 10.\n",
    "#Tulosta konsoliin oikea johtopäätös. Käytä if - elseif - else -rakennetta. \n",
    "\n",
    "x <- 15\n",
    "\n",
    "if (x > 10) {\n",
    "    print(\"x on suurempi kuin 10\")\n",
    "} else if (x < 10) {\n",
    "    print(\"x on pienempi kuin 10\")\n",
    "} else {\n",
    "    print(\"x on tasan 10\")\n",
    "}\n"
   ]
  },
  {
   "cell_type": "code",
   "execution_count": 3,
   "id": "ba26c0ce-ce5d-4ac0-8ed2-c71933f60a73",
   "metadata": {},
   "outputs": [
    {
     "name": "stdout",
     "output_type": "stream",
     "text": [
      "[1] \"double\"\n",
      "[1] \"character\"\n",
      "[1] \"logical\"\n"
     ]
    }
   ],
   "source": [
    "# Tehtävä 3\n",
    "#Luo muuttujat a = 3.14, b = \"R\" ja c = TRUE. Tulosta muuttujien tietotyypit konsoliin.\n",
    "\n",
    "a <- 3.14\n",
    "b <- \"R\"\n",
    "c <- TRUE\n",
    "\n",
    "print(typeof(a))\n",
    "print(typeof(b))\n",
    "print(typeof(c))\n"
   ]
  },
  {
   "cell_type": "code",
   "execution_count": 4,
   "id": "9352d759-c557-430a-9236-129667ef0c5d",
   "metadata": {},
   "outputs": [
    {
     "name": "stdout",
     "output_type": "stream",
     "text": [
      "[1] 64\n"
     ]
    }
   ],
   "source": [
    "#Tehtävä 4\n",
    "#Tee oma funktio square(x), joka palauttaa argumentin neliön. Testaa sitä arvolla 8. \n",
    "\n",
    "square <- function(x) {\n",
    "    return(x^2)\n",
    "}\n",
    "\n",
    "print(square(8))\n"
   ]
  },
  {
   "cell_type": "code",
   "execution_count": 5,
   "id": "7a5fd311-f206-4f6c-8b95-aab52c239c5f",
   "metadata": {},
   "outputs": [
    {
     "name": "stdout",
     "output_type": "stream",
     "text": [
      "[1] 55\n",
      "[1] 550\n",
      "[1] 10\n",
      "[1] 100\n",
      "[1] 55\n",
      "[1]  50  60  70  80  90 100\n"
     ]
    }
   ],
   "source": [
    "#Tehtävä 5\n",
    "#Tallenna vektori arvot <- c(10,20,30,40,50,60,70,80,90,100). Tulosta vektorin sisältämien lukujen keskiarvo, lukujen summa,\n",
    "#minini, maksimi ja mediaani konsoliin. \n",
    "\n",
    "#Suodata vektoria ja tulosta ainoastaan ne arvot, jotka ovat suurempia kuin 40. Sijoita suodatuksen tulos uuteen vektoriin. \n",
    "#Suodatus tapahtuu komennolla suodatettava_vektori[suodatettava_vektori > 40].\n",
    "\n",
    "arvot <- c(10,20,30,40,50,60,70,80,90,100)\n",
    "\n",
    "print(mean(arvot))\n",
    "print(sum(arvot))\n",
    "print(min(arvot))\n",
    "print(max(arvot))\n",
    "print(median(arvot))\n",
    "\n",
    "\n",
    "suuremmat <- arvot[arvot > 40]\n",
    "print(suuremmat)\n"
   ]
  },
  {
   "cell_type": "code",
   "execution_count": 6,
   "id": "5cd5c658-fa85-4d82-92f5-be66f40bf0c9",
   "metadata": {},
   "outputs": [
    {
     "name": "stdout",
     "output_type": "stream",
     "text": [
      "[1] 0.9980106\n"
     ]
    }
   ],
   "source": [
    "#Tehtävä 6\n",
    "#Luo kaksi vektoria: pituus = c(160, 165, 170, 175, 180) ja paino = c(55, 60, 68, 75, 82).\n",
    "#Laske korrelaatio pituuden ja painon välillä. Käytä laskemiseen funktiota cor(). Tulosta tulos konsoliin. \n",
    "\n",
    "pituus = c(160, 165, 170, 175, 180)\n",
    "paino = c(55, 60, 68, 75, 82)\n",
    "\n",
    "print(cor(pituus, paino))"
   ]
  },
  {
   "cell_type": "code",
   "execution_count": 9,
   "id": "8b1fea14-23b3-4123-8b5d-14468f06a884",
   "metadata": {},
   "outputs": [
    {
     "data": {
      "image/png": "[encoded data removed]",
      "text/plain": [
       "Plot with title \"Tehtävä 7\""
      ]
     },
     "metadata": {
      "image/png": {
       "height": 420,
       "width": 420
      }
     },
     "output_type": "display_data"
    }
   ],
   "source": [
    "#Tehtävä 7\n",
    "\n",
    "#Luo 100 satunnaislukua normaalijakaumasta. Käytä funktiota rnorm(). Sijoita luvut vektoriin.\n",
    "\n",
    "#Piirrä histogrammi näistä funktioista käyttämällä funktiota hist(). Joudut ensin asentamaan paketin Plots. \n",
    "#Käytä 30 luokkaa asettamalla breaks-argumentille oikea arvo. Anna lisäksi histogrammille nimi Tehtävä 7 käyttäen main-argumenttia. \n",
    "#Anna x-akselin otsikoksi Arvo käyttämällä argumenttia xlab ja y-akselin otsikoksi Lukumäärä käyttämällä argumettia xlab. \n",
    "\n",
    "luvut <- rnorm(100)\n",
    "hist(luvut, breaks = 30, main = \"Tehtävä 7\", xlab = \"Arvo\", ylab = \"Lukumäärä\")\n",
    "\n",
    "\n"
   ]
  },
  {
   "cell_type": "code",
   "execution_count": 10,
   "id": "c41853e7-6902-4081-bb6f-f1ca4503019b",
   "metadata": {},
   "outputs": [
    {
     "data": {
      "image/png": "[encoded data removed]",
      "text/plain": [
       "Plot with title \"Pituus vs. Paino\""
      ]
     },
     "metadata": {
      "image/png": {
       "height": 420,
       "width": 420
      }
     },
     "output_type": "display_data"
    }
   ],
   "source": [
    "#Tehtävä 8\n",
    "#Luo kaksi vektoria: pituus = c(160, 165, 170, 175, 180) ja paino = c(55, 60, 68, 75, 82).\n",
    "#Tee hajontakaavio, jossa x-akselilla on pituus ja y-akselilla paino. Käytä funktiota plot. Aseta akseleille oikeat otsikot. \n",
    "#Lisää kaavioon otsikko “Pituus vs. Paino”. \n",
    "\n",
    "pituus = c(160, 165, 170, 175, 180)\n",
    "paino = c(55, 60, 68, 75, 82)\n",
    "\n",
    "plot(pituus, paino, main = \"Pituus vs. Paino\", xlab = \"Pituus\", ylab = \"Paino\")\n",
    "\n",
    "\n"
   ]
  }
 ],
 "metadata": {
  "kernelspec": {
   "display_name": "R",
   "language": "R",
   "name": "ir"
  },
  "language_info": {
   "codemirror_mode": "r",
   "file_extension": ".r",
   "mimetype": "text/x-r-source",
   "name": "R",
   "pygments_lexer": "r",
   "version": "4.1.3"
  }
 },
 "nbformat": 4,
 "nbformat_minor": 5
}
